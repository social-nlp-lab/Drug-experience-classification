{
 "cells": [
  {
   "cell_type": "code",
   "execution_count": 8,
   "metadata": {},
   "outputs": [],
   "source": [
    "# read data that have annotations from zooniverse\n",
    "# and make kappa matrix\n",
    "import pandas as pd\n",
    "import numpy as np\n",
    "import os\n",
    "\n",
    "dat = \"../data/zooni/sud-project-classifications.csv\"\n",
    "df = pd.read_csv(dat)"
   ]
  },
  {
   "cell_type": "code",
   "execution_count": 10,
   "metadata": {},
   "outputs": [],
   "source": [
    "# parse annotation from json\n",
    "df['connection'] = df['annotations'].apply(lambda x: eval(x)[0]['value'])\n",
    "df['subject'] = df['annotations'].apply(lambda x: eval(x)[1]['value'])\n",
    "df['objective'] = df['annotations'].apply(lambda x: eval(x)[2]['value'])\n"
   ]
  },
  {
   "cell_type": "code",
   "execution_count": 16,
   "metadata": {},
   "outputs": [],
   "source": [
    "# make agreement matrix for connection\n",
    "# 1 = agree, 0 = disagree\n",
    "# lauren and donald\n",
    "\n",
    "lauren = df[df['user_name'] == 'laurenmiller324'][['connection', 'subject_ids', 'subject', 'objective']]\n",
    "# join with donald\n",
    "donald = df[df['user_name'] == 'dhattier'][['connection', 'subject_ids', 'subject', 'objective']]"
   ]
  },
  {
   "cell_type": "code",
   "execution_count": 29,
   "metadata": {},
   "outputs": [],
   "source": [
    "connection = lauren[['subject_ids','connection']].merge(donald[['connection','subject_ids']], on='subject_ids', suffixes=('_lauren', '_donald'))\n",
    "connection['agree'] = np.where(connection['connection_lauren'] == connection['connection_donald'], 1, 0)"
   ]
  },
  {
   "cell_type": "code",
   "execution_count": 62,
   "metadata": {},
   "outputs": [],
   "source": [
    "# export disagreements\n",
    "\n",
    "disagree = connection[connection['agree'] == 0]\n",
    "disagree.to_csv(\"../data/zooni/disagree_connection.csv\")\n",
    "agree = connection[connection['agree'] == 1]\n",
    "agree.to_csv(\"../data/zooni/agree_connection.csv\")"
   ]
  },
  {
   "cell_type": "code",
   "execution_count": 31,
   "metadata": {},
   "outputs": [],
   "source": [
    "kappa = connection.groupby(['connection_lauren', 'connection_donald']).count().reset_index()\n",
    "kappa = kappa.pivot(index='connection_lauren', columns='connection_donald', values='agree')\n",
    "kappa = kappa.fillna(0)\n",
    "kappa = kappa.astype(int)\n",
    "# calculate kappa\n",
    "# https://en.wikipedia.org/wiki/Cohen%27s_kappa\n",
    "kappa_matrix = kappa.values"
   ]
  },
  {
   "cell_type": "code",
   "execution_count": 32,
   "metadata": {},
   "outputs": [
    {
     "name": "stdout",
     "output_type": "stream",
     "text": [
      "0.25742574257425754\n"
     ]
    }
   ],
   "source": [
    "\n",
    "n = np.sum(kappa_matrix)\n",
    "p0 = np.sum(np.diag(kappa_matrix))/n\n",
    "pe = np.sum(np.sum(kappa_matrix, axis=0)*np.sum(kappa_matrix, axis=1))/n**2\n",
    "kappa = (p0-pe)/(1-pe)\n",
    "print(kappa)"
   ]
  },
  {
   "cell_type": "markdown",
   "metadata": {},
   "source": [
    "---\n",
    "\n",
    "subject"
   ]
  },
  {
   "cell_type": "code",
   "execution_count": 46,
   "metadata": {},
   "outputs": [],
   "source": [
    "subject = lauren[['subject_ids','subject']].merge(donald[['subject','subject_ids']], on='subject_ids', suffixes=('_lauren', '_donald'))\n",
    "subject['agree'] = np.where(subject['subject_lauren'] == subject['subject_donald'], 1, 0)"
   ]
  },
  {
   "cell_type": "code",
   "execution_count": 49,
   "metadata": {},
   "outputs": [
    {
     "name": "stdout",
     "output_type": "stream",
     "text": [
      "0.45205479452054803\n"
     ]
    }
   ],
   "source": [
    "kappa_subject = subject.groupby(['subject_lauren', 'subject_donald']).count().reset_index()\n",
    "kappa_subject = kappa_subject.pivot(index='subject_lauren', columns='subject_donald', values='agree')\n",
    "kappa_subject = kappa_subject.fillna(0)\n",
    "kappa_subject = kappa_subject.astype(int)\n",
    "# calculate kappa\n",
    "# https://en.wikipedia.org/wiki/Cohen%27s_kappa\n",
    "kappa_matrix_subject = kappa_subject.values\n",
    "# add third column\n",
    "kappa_matrix_subject = np.append(kappa_matrix_subject, np.zeros((kappa_matrix_subject.shape[0],1)), axis=1)\n",
    "n_s = np.sum(kappa_matrix_subject)\n",
    "p0_s = np.sum(np.diag(kappa_matrix_subject))/n\n",
    "pe_s = np.sum(np.sum(kappa_matrix_subject, axis=0)*np.sum(kappa_matrix_subject, axis=1))/n**2\n",
    "kappa_subject = (p0_s-pe_s)/(1-pe_s)\n",
    "print(kappa_subject)"
   ]
  },
  {
   "cell_type": "code",
   "execution_count": 61,
   "metadata": {},
   "outputs": [],
   "source": [
    "# export disagreement\n",
    "disagree_subject = subject[subject['agree'] == 0]\n",
    "disagree_subject.to_csv(\"../data/zooni/disagree_subject.csv\")"
   ]
  },
  {
   "cell_type": "markdown",
   "metadata": {},
   "source": [
    "---\n",
    "Objectives"
   ]
  },
  {
   "cell_type": "code",
   "execution_count": 51,
   "metadata": {},
   "outputs": [
    {
     "name": "stdout",
     "output_type": "stream",
     "text": [
      "0.11971830985915494\n"
     ]
    }
   ],
   "source": [
    "objective = lauren[['subject_ids','objective']].merge(donald[['objective','subject_ids']], on='subject_ids', suffixes=('_lauren', '_donald'))\n",
    "# agree if values of list are the same - not order\n",
    "objective['objective_lauren'] = objective['objective_lauren'].apply(lambda x: sorted(x))\n",
    "objective['objective_donald'] = objective['objective_donald'].apply(lambda x: sorted(x))\n",
    "# list are unhashable so convert to tuple\n",
    "objective['objective_lauren'] = objective['objective_lauren'].apply(lambda x: tuple(x))\n",
    "objective['objective_donald'] = objective['objective_donald'].apply(lambda x: tuple(x))\n",
    "objective['agree'] = np.where(objective['objective_lauren'] == objective['objective_donald'], 1, 0)\n",
    "\n",
    "kappa_objective = objective.groupby(['objective_lauren', 'objective_donald']).count().reset_index()\n",
    "kappa_objective = kappa_objective.pivot(index='objective_lauren', columns='objective_donald', values='agree')\n",
    "kappa_objective = kappa_objective.fillna(0)\n",
    "kappa_objective = kappa_objective.astype(int)\n",
    "# calculate kappa\n",
    "kappa_matrix_objective = kappa_objective.values\n",
    "# make sure there are columns for all possible values\n",
    "kappa_matrix_objective = np.append(kappa_matrix_objective, np.zeros((kappa_matrix_objective.shape[0],1)), axis=1)\n",
    "n_o = np.sum(kappa_matrix_objective)\n",
    "p0_o = np.sum(np.diag(kappa_matrix_objective))/n\n",
    "pe_o = np.sum(np.sum(kappa_matrix_objective, axis=0)*np.sum(kappa_matrix_objective, axis=1))/n**2\n",
    "kappa_objective = (p0_o-pe_o)/(1-pe_o)\n",
    "print(kappa_objective)"
   ]
  },
  {
   "cell_type": "code",
   "execution_count": null,
   "metadata": {},
   "outputs": [],
   "source": [
    "# calculate intra-class correlation\n",
    "# https://en.wikipedia.org/wiki/Intraclass_correlation\n",
    "\n"
   ]
  }
 ],
 "metadata": {
  "kernelspec": {
   "display_name": "base",
   "language": "python",
   "name": "python3"
  },
  "language_info": {
   "codemirror_mode": {
    "name": "ipython",
    "version": 3
   },
   "file_extension": ".py",
   "mimetype": "text/x-python",
   "name": "python",
   "nbconvert_exporter": "python",
   "pygments_lexer": "ipython3",
   "version": "3.9.13"
  },
  "orig_nbformat": 4
 },
 "nbformat": 4,
 "nbformat_minor": 2
}

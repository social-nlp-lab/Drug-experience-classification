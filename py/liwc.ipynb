{
 "cells": [
  {
   "cell_type": "code",
   "execution_count": 1,
   "metadata": {},
   "outputs": [],
   "source": [
    "import pandas as pd\n",
    "import numpy as np\n",
    "from scipy.stats import kruskal, mannwhitneyu\n",
    "import matplotlib.pyplot as plt\n",
    "\n",
    "liwc = pd.read_csv('../output/LIWC.csv')\n",
    "liwc.drop(['Unnamed: 0', 'Unnamed: 0.1', 'objective'], axis=1, inplace=True)"
   ]
  },
  {
   "cell_type": "code",
   "execution_count": 2,
   "metadata": {},
   "outputs": [],
   "source": [
    "# liwc_cats = ['Analytic', 'Clout', 'Authentic', 'Tone','Drives', 'Affect', 'Social', \n",
    "#              'Physical','tone_pos','emo_pos','tone_neg', 'emo_neg','emo_anx','emo_anger',\n",
    "#              'emo_sad', 'illness', 'wellness', 'mental', 'substances', 'sexual', 'food', \n",
    "#              'death', 'need', 'want', 'acquire', 'lack', 'fulfill', 'fatigue', 'reward', \n",
    "#              'risk', 'curiosity', 'allure', 'family', 'friend', 'focuspast','focuspresent',\n",
    "#              'focusfuture','moral', 'prosocial', 'conflict']\n",
    "liwc_vars = liwc.columns[18:].to_list()\n",
    "connection = ['inquisition', 'disclosure']\n",
    "subject = ['dependency', 'recovery', 'other']\n",
    "objectives = ['Quality', 'Legality', 'Effects', 'Methods of Ingestion', 'Combination of Substances', 'Mental Health',\n",
    "          'N/A', 'Other', 'Overdose', 'Nurturant Support & Morality', 'Withdrawal', 'Safety', 'Relapse']\n",
    "# to lower\n",
    "objectives = [x.lower() for x in objectives]"
   ]
  },
  {
   "cell_type": "code",
   "execution_count": 5,
   "metadata": {},
   "outputs": [],
   "source": [
    "# all_cols = objectives + liwc_cats + ['connection','subjective']\n",
    "# liwc_filter = liwc[all_cols]"
   ]
  },
  {
   "cell_type": "code",
   "execution_count": 4,
   "metadata": {},
   "outputs": [],
   "source": [
    "# determine which liwc categories are significant\n",
    "# manwhitneyu test for inquisition vs disclosure since there are only 2 groups\n",
    "results_c = []\n",
    "for c in liwc_vars:\n",
    "    results_c.append([c, \n",
    "                    mannwhitneyu(liwc[liwc['connection'] == 'inquisition'][c],\n",
    "                                    liwc[liwc['connection'] == 'disclosure'][c]).statistic,\n",
    "                    mannwhitneyu(liwc[liwc['connection'] == 'inquisition'][c],\n",
    "                                 liwc[liwc['connection'] == 'disclosure'][c]).pvalue])\n",
    "    "
   ]
  },
  {
   "cell_type": "code",
   "execution_count": 11,
   "metadata": {},
   "outputs": [
    {
     "name": "stdout",
     "output_type": "stream",
     "text": [
      "['Analytic', 243579.5, 0.00012897143826633872]\n",
      "['Clout', 250284.0, 0.002292170860467308]\n",
      "['Authentic', 293117.0, 0.031244347238241134]\n",
      "['Tone', 258826.0, 0.041538135344504956]\n",
      "['pronoun', 295571.5, 0.014437303154006932]\n",
      "['we', 259474.5, 0.00012114805795709306]\n",
      "['shehe', 261976.0, 0.002938926379360534]\n",
      "['ipron', 313308.0, 3.6900980099700856e-06]\n",
      "['affiliation', 260449.5, 0.030330881023745725]\n",
      "['Cognition', 350105.0, 1.5791196737128335e-19]\n",
      "['allnone', 258605.5, 0.023679715736434882]\n",
      "['cogproc', 362331.5, 6.544748647206657e-26]\n",
      "['insight', 339356.5, 1.2181872088474479e-15]\n",
      "['cause', 320804.0, 4.097862913432137e-09]\n",
      "['discrep', 324689.5, 2.639590795252707e-10]\n",
      "['tentat', 369763.5, 1.3947931900638242e-31]\n",
      "['certitude', 260060.5, 0.01405327725817528]\n",
      "['differ', 323592.5, 2.0934500804937106e-09]\n",
      "['memory', 264263.0, 0.00042414134204760124]\n",
      "['Affect', 232529.0, 1.8612284166721668e-07]\n",
      "['tone_pos', 246516.0, 0.0003273636080491518]\n",
      "['emotion', 239357.0, 2.975182607158191e-06]\n",
      "['emo_pos', 241968.5, 9.595176305653677e-07]\n",
      "['emo_anger', 262293.0, 0.000217991379062243]\n",
      "['emo_sad', 262550.0, 0.000159968501683913]\n",
      "['swear', 252236.0, 0.00018443394577970438]\n",
      "['socbehav', 292928.5, 0.02676190895500297]\n",
      "['prosocial', 304522.0, 5.970183157059709e-06]\n",
      "['polite', 300244.5, 1.7209826064779798e-06]\n",
      "['conflict', 258143.0, 1.0971165241282987e-05]\n",
      "['moral', 263363.5, 0.004465393749354915]\n",
      "['comm', 311680.0, 1.2588057523611452e-06]\n",
      "['family', 257878.5, 2.2689731053428404e-06]\n",
      "['friend', 261757.0, 0.0009639068467073298]\n",
      "['female', 262495.5, 0.0006684488740878817]\n",
      "['home', 256398.0, 3.2596261074607648e-06]\n",
      "['money', 261487.5, 0.005963977258562942]\n",
      "['relig', 265084.5, 0.004021453442618984]\n",
      "['Physical', 305114.0, 0.00025038714753534665]\n",
      "['health', 302597.0, 0.0003369039765416783]\n",
      "['wellness', 268074.0, 0.0069033511314633665]\n",
      "['substances', 305480.0, 4.389315795211552e-05]\n",
      "['sexual', 264425.5, 0.00022365281474808548]\n",
      "['acquire', 309022.5, 1.450134354767513e-05]\n",
      "['fatigue', 266203.0, 0.014758500998985014]\n",
      "['reward', 267075.0, 0.0012726713875014345]\n",
      "['curiosity', 289410.0, 0.006138949271405291]\n",
      "['visual', 256606.0, 0.0029206662332017697]\n",
      "['focuspast', 291069.0, 0.04729636926273759]\n",
      "['focuspresent', 305883.5, 0.00019304717006907835]\n",
      "['focusfuture', 290045.5, 0.04519913117803777]\n",
      "['QMark', 418139.5, 4.8604634666828364e-73]\n"
     ]
    }
   ],
   "source": [
    "for c in results_c:\n",
    "    if c[2] < 0.05:\n",
    "        print(c)\n",
    "# store significant categories\n",
    "results_c_sig = [x for x in results_c if x[2] < 0.05]\n",
    "sig_cats = [x[0] for x in results_c if x[2] < 0.05]"
   ]
  },
  {
   "cell_type": "code",
   "execution_count": 12,
   "metadata": {},
   "outputs": [],
   "source": [
    "# get effect sizes - cohens d\n",
    "cohens_d = []\n",
    "for c in sig_cats:\n",
    "    inq = liwc[liwc['connection'] == 'inquisition'][c]\n",
    "    dis = liwc[liwc['connection'] == 'disclosure'][c]\n",
    "    cohens_d.append([c, (inq.mean() - dis.mean()) / (inq.std() + dis.std())])\n",
    "# cohens_d = sorted(cohens_d, key=lambda x: x[1], reverse=True)\n",
    "# cohens_d"
   ]
  },
  {
   "cell_type": "code",
   "execution_count": 17,
   "metadata": {},
   "outputs": [
    {
     "data": {
      "text/plain": [
       "[['Analytic', 0.8542758115865918],\n",
       " ['Clout', 0.8989426874796137],\n",
       " ['Authentic', 1.0742970852993448],\n",
       " ['Tone', 0.8834540916211386],\n",
       " ['pronoun', 1.0725965834539346],\n",
       " ['we', 0.4926689033887025],\n",
       " ['shehe', 0.7661656529097336],\n",
       " ['ipron', 1.1962760585258023],\n",
       " ['affiliation', 0.7802797516686132],\n",
       " ['Cognition', 1.3312780868587182],\n",
       " ['allnone', 0.753870704923165],\n",
       " ['cogproc', 1.4209236959022646],\n",
       " ['insight', 1.4848222214852405],\n",
       " ['cause', 1.5064578217623386],\n",
       " ['discrep', 1.5858310289299482],\n",
       " ['tentat', 2.0848788493141917],\n",
       " ['certitude', 0.686183261183261],\n",
       " ['differ', 1.3319499859623192],\n",
       " ['memory', 0.400439334620631],\n",
       " ['Affect', 0.6716099086348472],\n",
       " ['tone_pos', 0.5836936087255581],\n",
       " ['emotion', 0.5953607446689216],\n",
       " ['emo_pos', 0.41433239139816236],\n",
       " ['emo_anger', 0.6959319776299823],\n",
       " ['emo_sad', 0.8593384696308672],\n",
       " ['swear', 0.6216652582931775],\n",
       " ['socbehav', 0.9858239147992949],\n",
       " ['prosocial', 1.2443106636124248],\n",
       " ['polite', 1.5091279114928369],\n",
       " ['conflict', 0.6645827580493731],\n",
       " ['moral', 0.41802199589355776],\n",
       " ['comm', 1.2707424840881418],\n",
       " ['family', 0.4667583746333253],\n",
       " ['friend', 0.7637558658098268],\n",
       " ['female', 0.7690280678020478],\n",
       " ['home', 0.49525657528682726],\n",
       " ['money', 0.5687579144076027],\n",
       " ['relig', 1.1356687779085626],\n",
       " ['Physical', 1.130652330470104],\n",
       " ['health', 1.2582904761436509],\n",
       " ['wellness', 0.3016618333641841],\n",
       " ['substances', 1.281087210316482],\n",
       " ['sexual', 0.6200767679396265],\n",
       " ['acquire', 1.3493229244008857],\n",
       " ['fatigue', 0.8174827090026213],\n",
       " ['reward', 0.39351198365768525],\n",
       " ['curiosity', 2.0199740448237145],\n",
       " ['visual', 0.7644238817463507],\n",
       " ['focuspast', 0.9964454340099597],\n",
       " ['focuspresent', 1.1271780048433393],\n",
       " ['focusfuture', 1.1358170810583064],\n",
       " ['QMark', 2.7014275963194363]]"
      ]
     },
     "execution_count": 17,
     "metadata": {},
     "output_type": "execute_result"
    }
   ],
   "source": [
    "# get the ratio of means between inquisition and disclosure for the top 20 categories\n",
    "# top_20 = cohens_d[:20]\n",
    "liwc_ratio = []\n",
    "for c in cohens_d:\n",
    "    inq = liwc[liwc['connection'] == 'inquisition'][c[0]].mean()\n",
    "    dis = liwc[liwc['connection'] == 'disclosure'][c[0]].mean()\n",
    "    liwc_ratio.append([c[0], inq/dis])\n",
    "# liwc_ratio = sorted(liwc_ratio, key=lambda x: x[1], reverse=True)\n",
    "liwc_ratio"
   ]
  },
  {
   "cell_type": "code",
   "execution_count": 18,
   "metadata": {},
   "outputs": [],
   "source": [
    "# combine manwhitney and cohensd and export\n",
    "connection_analysis = pd.DataFrame(results_c_sig, columns=['category', 'statistic', 'pvalue'])\n",
    "connection_analysis['cohens_d'] = [x[1] for x in cohens_d]\n",
    "connection_analysis['ratio'] = [x[1] for x in liwc_ratio]\n",
    "connection_analysis.to_csv('../output/connection_analysis.csv')"
   ]
  },
  {
   "cell_type": "markdown",
   "metadata": {},
   "source": [
    "---\n",
    "### Subject Analysis\n",
    "\n",
    "1. Test for Difference in Means (Kruskal-Wallis Test)\n",
    "2. Effect Size (Cohen's d)\n",
    "3. Get Ratios for Significantly Different Features "
   ]
  },
  {
   "cell_type": "code",
   "execution_count": 19,
   "metadata": {},
   "outputs": [],
   "source": [
    "# difference in means\n",
    "results_s = []\n",
    "for c in liwc_vars:\n",
    "    results_s.append([c, \n",
    "                    mannwhitneyu(liwc[liwc['subjective'] == 'dependency'][c],\n",
    "                                    liwc[liwc['subjective'] == 'recovery'][c]).statistic,\n",
    "                    mannwhitneyu(liwc[liwc['subjective'] == 'dependency'][c],\n",
    "                                 liwc[liwc['subjective'] == 'recovery'][c]).pvalue])"
   ]
  },
  {
   "cell_type": "code",
   "execution_count": 23,
   "metadata": {},
   "outputs": [],
   "source": [
    "results_s_sig = [x for x in results_s if x[2] < 0.05]\n",
    "sig_cats_s = [x[0] for x in results_s if x[2] < 0.05]\n",
    "# look at effect sizes for dependency vs other and recovery vs other\n",
    "cohens_d_s_d = []\n",
    "cohens_d_s_r = []\n",
    "for c in sig_cats_s:\n",
    "    dep = liwc[liwc['subjective'] == 'dependency'][c]\n",
    "    rec = liwc[liwc['subjective'] == 'recovery'][c]\n",
    "    oth = liwc[liwc['subjective'] == 'other'][c]\n",
    "    cohens_d_s_d.append([c, (dep.mean() - oth.mean()) / (dep.std() + oth.std())])\n",
    "    cohens_d_s_r.append([c, (rec.mean() - oth.mean()) / (rec.std() + oth.std())])\n"
   ]
  },
  {
   "cell_type": "code",
   "execution_count": 21,
   "metadata": {},
   "outputs": [],
   "source": [
    "liwc_ratio_s_d = []\n",
    "liwc_ratio_s_r = []\n",
    "for c in cohens_d_s_d:\n",
    "    dep = liwc[liwc['subjective'] == 'dependency'][c[0]].mean()\n",
    "    oth = liwc[liwc['subjective'] == 'other'][c[0]].mean()\n",
    "    liwc_ratio_s_d.append([c[0], dep/oth])\n",
    "for c in cohens_d_s_r:\n",
    "    rec = liwc[liwc['subjective'] == 'recovery'][c[0]].mean()\n",
    "    oth = liwc[liwc['subjective'] == 'other'][c[0]].mean()\n",
    "    liwc_ratio_s_r.append([c[0], rec/oth])\n"
   ]
  },
  {
   "cell_type": "code",
   "execution_count": 24,
   "metadata": {},
   "outputs": [],
   "source": [
    "# merge\n",
    "subjective_analysis = pd.DataFrame(results_s_sig, columns=['category', 'statistic', 'pvalue'])\n",
    "subjective_analysis['cohens_d_dep'] = [x[1] for x in cohens_d_s_d]\n",
    "subjective_analysis['cohens_d_rec'] = [x[1] for x in cohens_d_s_r]\n",
    "subjective_analysis['ratio_dep'] = [x[1] for x in liwc_ratio_s_d]\n",
    "subjective_analysis['ratio_rec'] = [x[1] for x in liwc_ratio_s_r]\n",
    "subjective_analysis.to_csv('../output/subjective_analysis.csv')"
   ]
  },
  {
   "cell_type": "markdown",
   "metadata": {},
   "source": [
    "---\n",
    "\n",
    "### Connection x Subject Analysis\n",
    "\n",
    "1. Within Inquisition, Test for Difference in Means\n",
    "2. Within Disclosure, Test for Difference in Means"
   ]
  },
  {
   "cell_type": "code",
   "execution_count": 25,
   "metadata": {},
   "outputs": [],
   "source": [
    "# difference in means\n",
    "liwc_inq = liwc[liwc['connection'] == 'inquisition']\n",
    "results_inq = []\n",
    "for c in liwc_vars:\n",
    "    results_inq.append([c, \n",
    "                    mannwhitneyu(liwc_inq[liwc_inq['subjective'] == 'dependency'][c],\n",
    "                                    liwc_inq[liwc_inq['subjective'] == 'recovery'][c]).statistic,\n",
    "                    mannwhitneyu(liwc_inq[liwc_inq['subjective'] == 'dependency'][c],\n",
    "                                 liwc_inq[liwc_inq['subjective'] == 'recovery'][c]).pvalue])\n",
    "    \n",
    "results_inq_sig = [x for x in results_inq if x[2] < 0.05]"
   ]
  },
  {
   "cell_type": "code",
   "execution_count": 30,
   "metadata": {},
   "outputs": [],
   "source": [
    "# effect sizes\n",
    "cohens_d_inq_d = []\n",
    "cohens_d_inq_r = []\n",
    "for c in results_inq_sig:\n",
    "    dep = liwc_inq[liwc_inq['subjective'] == 'dependency'][c[0]]\n",
    "    rec = liwc_inq[liwc_inq['subjective'] == 'recovery'][c[0]]\n",
    "    other = liwc_inq[liwc_inq['subjective'] == 'other'][c[0]]\n",
    "    cohens_d_inq_d.append([c[0], (dep.mean() - other.mean()) / (dep.std() + other.std())])\n",
    "    cohens_d_inq_r.append([c[0], (rec.mean() - other.mean()) / (rec.std() + other.std())])\n",
    "    "
   ]
  },
  {
   "cell_type": "code",
   "execution_count": 27,
   "metadata": {},
   "outputs": [],
   "source": [
    "# ratio of means\n",
    "liwc_ratio_inq_d = []\n",
    "liwc_ratio_inq_r = []\n",
    "for c in cohens_d_inq_d:\n",
    "    dep = liwc_inq[liwc_inq['subjective'] == 'dependency'][c[0]].mean()\n",
    "    other = liwc_inq[liwc_inq['subjective'] == 'other'][c[0]].mean()\n",
    "    liwc_ratio_inq_d.append([c[0], dep/other])\n",
    "for c in cohens_d_inq_r:\n",
    "    rec = liwc_inq[liwc_inq['subjective'] == 'recovery'][c[0]].mean()\n",
    "    other = liwc_inq[liwc_inq['subjective'] == 'other'][c[0]].mean()\n",
    "    liwc_ratio_inq_r.append([c[0], rec/other])\n",
    "    "
   ]
  },
  {
   "cell_type": "code",
   "execution_count": 29,
   "metadata": {},
   "outputs": [],
   "source": [
    "# disclosure \n",
    "liwc_dis = liwc[liwc['connection'] == 'disclosure']\n",
    "results_dis = []\n",
    "for c in liwc_vars:\n",
    "    results_dis.append([c, \n",
    "                    mannwhitneyu(liwc_dis[liwc_dis['subjective'] == 'dependency'][c],\n",
    "                                    liwc_dis[liwc_dis['subjective'] == 'recovery'][c]).statistic,\n",
    "                    mannwhitneyu(liwc_dis[liwc_dis['subjective'] == 'dependency'][c],\n",
    "                                 liwc_dis[liwc_dis['subjective'] == 'recovery'][c]).pvalue])\n",
    "    \n",
    "results_dis_sig = [x for x in results_dis if x[2] < 0.05]"
   ]
  },
  {
   "cell_type": "code",
   "execution_count": 31,
   "metadata": {},
   "outputs": [],
   "source": [
    "cohens_d_dis_d = []\n",
    "cohens_d_dis_r = []\n",
    "for c in results_dis_sig:\n",
    "    dep = liwc_dis[liwc_dis['subjective'] == 'dependency'][c[0]]\n",
    "    rec = liwc_dis[liwc_dis['subjective'] == 'recovery'][c[0]]\n",
    "    other = liwc_dis[liwc_dis['subjective'] == 'other'][c[0]]\n",
    "    cohens_d_dis_d.append([c[0], (dep.mean() - other.mean()) / (dep.std() + other.std())])\n",
    "    cohens_d_dis_r.append([c[0], (rec.mean() - other.mean()) / (rec.std() + other.std())])"
   ]
  },
  {
   "cell_type": "code",
   "execution_count": 32,
   "metadata": {},
   "outputs": [],
   "source": [
    "# ratio\n",
    "liwc_ratio_dis_d = []\n",
    "liwc_ratio_dis_r = []\n",
    "for c in cohens_d_dis_d:\n",
    "    dep = liwc_dis[liwc_dis['subjective'] == 'dependency'][c[0]].mean()\n",
    "    other = liwc_dis[liwc_dis['subjective'] == 'other'][c[0]].mean()\n",
    "    liwc_ratio_dis_d.append([c[0], dep/other])\n",
    "for c in cohens_d_dis_r:\n",
    "    rec = liwc_dis[liwc_dis['subjective'] == 'recovery'][c[0]].mean()\n",
    "    other = liwc_dis[liwc_dis['subjective'] == 'other'][c[0]].mean()\n",
    "    liwc_ratio_dis_r.append([c[0], rec/other])"
   ]
  },
  {
   "cell_type": "code",
   "execution_count": 33,
   "metadata": {},
   "outputs": [],
   "source": [
    "# merge and export\n",
    "connection_inq_analysis = pd.DataFrame(results_inq_sig, columns=['category', 'statistic', 'pvalue'])\n",
    "connection_inq_analysis['cohens_d_dep'] = [x[1] for x in cohens_d_inq_d]\n",
    "connection_inq_analysis['cohens_d_rec'] = [x[1] for x in cohens_d_inq_r]\n",
    "connection_inq_analysis['ratio_dep'] = [x[1] for x in liwc_ratio_inq_d]\n",
    "connection_inq_analysis['ratio_rec'] = [x[1] for x in liwc_ratio_inq_r]\n",
    "connection_inq_analysis.to_csv('../output/connection_inq_analysis.csv')\n",
    "\n",
    "connection_dis_analysis = pd.DataFrame(results_dis_sig, columns=['category', 'statistic', 'pvalue'])\n",
    "connection_dis_analysis['cohens_d_dep'] = [x[1] for x in cohens_d_dis_d]\n",
    "connection_dis_analysis['cohens_d_rec'] = [x[1] for x in cohens_d_dis_r]\n",
    "connection_dis_analysis['ratio_dep'] = [x[1] for x in liwc_ratio_dis_d]\n",
    "connection_dis_analysis['ratio_rec'] = [x[1] for x in liwc_ratio_dis_r]\n",
    "connection_dis_analysis.to_csv('../output/connection_dis_analysis.csv')"
   ]
  },
  {
   "cell_type": "code",
   "execution_count": null,
   "metadata": {},
   "outputs": [],
   "source": [
    "for c in liwc_vars:\n",
    "    results_inq.append([c,\n",
    "                        kruskal(liwc[liwc['objective'] == 'quality'][c],\n",
    "                                liwc[liwc['objective'] == 'legality'][c],\n",
    "                                liwc[liwc['objective'] == 'effects'][c],\n",
    "                                liwc[liwc['objective'] == 'methods of ingestion'][c],\n",
    "                                liwc[liwc['objective'] == 'combination of substances'][c],\n",
    "                                liwc[liwc['objective'] == 'mental health'][c],\n",
    "                                liwc[liwc['objective'] == 'n/a'][c],\n",
    "                                liwc[liwc['objective'] == 'other'][c],\n",
    "                                liwc[liwc['objective'] == 'overdose'][c],\n",
    "                                liwc[liwc['objective'] == 'nurturant support & morality'][c],\n",
    "                                liwc[liwc['objective'] == 'withdrawal'][c],\n",
    "                                liwc[liwc['objective'] == 'safety'][c],\n",
    "                                liwc[liwc['objective'] == 'relapse'][c]).pvalue])"
   ]
  },
  {
   "cell_type": "code",
   "execution_count": null,
   "metadata": {},
   "outputs": [],
   "source": [
    "# liwc - inquisition\n",
    "results_i = []\n",
    "liwc_i = liwc_filter[liwc_filter['connection'] == 'inquisition']\n",
    "\n",
    "for c in liwc_cats:\n",
    "    print(c)\n",
    "    print(kruskal(liwc_i[liwc_i['subjective'] == 'dependency'][c], \n",
    "                  liwc_i[liwc_i['subjective'] == 'recovery'][c],\n",
    "                  liwc_i[liwc_i['subjective'] == 'other'][c]))\n",
    "    results_i.append([c, \n",
    "                        kruskal(liwc_i[liwc_i['subjective'] == 'dependency'][c], \n",
    "                                     liwc_i[liwc_i['subjective'] == 'recovery'][c],\n",
    "                                     liwc_i[liwc_i['subjective'] == 'other'][c]).statistic,\n",
    "                      kruskal(liwc_i[liwc_i['subjective'] == 'dependency'][c], \n",
    "                                 liwc_i[liwc_i['subjective'] == 'recovery'][c],\n",
    "                                 liwc_i[liwc_i['subjective'] == 'other'][c]).pvalue])"
   ]
  },
  {
   "cell_type": "code",
   "execution_count": null,
   "metadata": {},
   "outputs": [],
   "source": [
    "liwc_disc = liwc_filter[liwc_filter['connection'] == 'disclosure']\n",
    "results_d = []\n",
    "\n",
    "for c in liwc_cats:\n",
    "    print(c)\n",
    "    print(kruskal(liwc_disc[liwc_disc['subjective'] == 'dependency'][c], \n",
    "                  liwc_disc[liwc_disc['subjective'] == 'recovery'][c],\n",
    "                  liwc_disc[liwc_disc['subjective'] == 'other'][c]))\n",
    "    results_d.append([c, \n",
    "                      kruskal(liwc_disc[liwc_disc['subjective'] == 'dependency'][c], \n",
    "                                 liwc_disc[liwc_disc['subjective'] == 'recovery'][c],\n",
    "                                 liwc_disc[liwc_disc['subjective'] == 'other'][c]).statistic,\n",
    "                      kruskal(liwc_disc[liwc_disc['subjective'] == 'dependency'][c], \n",
    "                                 liwc_disc[liwc_disc['subjective'] == 'recovery'][c],\n",
    "                                 liwc_disc[liwc_disc['subjective'] == 'other'][c]).pvalue])"
   ]
  },
  {
   "cell_type": "code",
   "execution_count": 21,
   "metadata": {},
   "outputs": [
    {
     "name": "stderr",
     "output_type": "stream",
     "text": [
      "/var/folders/jj/bt0ykz9n5_16z2gvbybl0tbc0000gn/T/ipykernel_98686/1522825402.py:2: FutureWarning: The default value of numeric_only in DataFrameGroupBy.mean is deprecated. In a future version, numeric_only will default to False. Either specify numeric_only or select only columns which should be valid for the function.\n",
      "  liwc_subj_disc = liwc_disc.groupby(['subjective']).mean().reset_index()\n",
      "/var/folders/jj/bt0ykz9n5_16z2gvbybl0tbc0000gn/T/ipykernel_98686/1522825402.py:3: FutureWarning: The default value of numeric_only in DataFrameGroupBy.mean is deprecated. In a future version, numeric_only will default to False. Either specify numeric_only or select only columns which should be valid for the function.\n",
      "  liwc_subj_inq = liwc_i.groupby(['subjective']).mean().reset_index()\n"
     ]
    }
   ],
   "source": [
    "# get the mean of each category for each connection, subject, and objective\n",
    "liwc_subj_disc = liwc_disc.groupby(['subjective']).mean().reset_index()\n",
    "liwc_subj_inq = liwc_i.groupby(['subjective']).mean().reset_index()\n",
    "# drop the objective columns\n",
    "liwc_subj_disc.drop(objectives, axis=1, inplace=True)\n",
    "liwc_subj_inq.drop(objectives, axis=1, inplace=True)"
   ]
  },
  {
   "cell_type": "code",
   "execution_count": 61,
   "metadata": {},
   "outputs": [],
   "source": [
    "# get ratio of means between disclosure and inquisition\n",
    "liwc_ratio = liwc_subj_disc.copy()\n",
    "for c in liwc_cats:\n",
    "    liwc_ratio[c] = liwc_subj_disc[c] / liwc_subj_inq[c]\n",
    "\n",
    "# transpose so that cols are subjectives and rows are categories\n",
    "liwc_ratio_t = liwc_ratio.transpose()\n",
    "liwc_ratio_t.columns = ['dependency', 'other', 'recovery']\n",
    "# remove firsrt row\n",
    "liwc_ratio_t = liwc_ratio_t[1:]\n",
    "# rename index to category\n",
    "\n",
    "liwc_ratio_t = liwc_ratio_t.reset_index()\n",
    "liwc_ratio_t.rename(columns={'index':'variable'}, inplace=True)\n",
    "liwc_ratio_t.to_csv('../output/liwc_ratio.csv')"
   ]
  },
  {
   "cell_type": "code",
   "execution_count": 54,
   "metadata": {},
   "outputs": [
    {
     "name": "stdout",
     "output_type": "stream",
     "text": [
      "Analytic\n",
      "MannwhitneyuResult(statistic=9734.0, pvalue=0.9817314505603738)\n",
      "Clout\n",
      "MannwhitneyuResult(statistic=9243.5, pvalue=0.4470654776810784)\n",
      "Authentic\n",
      "MannwhitneyuResult(statistic=10265.5, pvalue=0.4453354969489527)\n",
      "Tone\n",
      "MannwhitneyuResult(statistic=10510.0, pvalue=0.25973962158232633)\n",
      "Drives\n",
      "MannwhitneyuResult(statistic=10756.5, pvalue=0.13286423632104327)\n",
      "Affect\n",
      "MannwhitneyuResult(statistic=6734.0, pvalue=8.26375691643977e-06)\n",
      "Social\n",
      "MannwhitneyuResult(statistic=9917.0, pvalue=0.805476776054453)\n",
      "Physical\n",
      "MannwhitneyuResult(statistic=10994.0, pvalue=0.06599675418615936)\n",
      "tone_pos\n",
      "MannwhitneyuResult(statistic=8467.0, pvalue=0.05704557595935378)\n",
      "emo_pos\n",
      "MannwhitneyuResult(statistic=8482.0, pvalue=0.038931906503399956)\n",
      "tone_neg\n",
      "MannwhitneyuResult(statistic=7603.0, pvalue=0.0013084712431356885)\n",
      "emo_neg\n",
      "MannwhitneyuResult(statistic=8137.0, pvalue=0.011414265679463515)\n",
      "emo_anx\n",
      "MannwhitneyuResult(statistic=9721.5, pvalue=0.9530457512470247)\n",
      "emo_anger\n",
      "MannwhitneyuResult(statistic=8377.5, pvalue=0.0009631959156339709)\n",
      "emo_sad\n",
      "MannwhitneyuResult(statistic=8685.0, pvalue=0.0024818523447704107)\n",
      "illness\n",
      "MannwhitneyuResult(statistic=8755.0, pvalue=0.08799721525092816)\n",
      "wellness\n",
      "MannwhitneyuResult(statistic=9651.0, pvalue=0.6995408093712767)\n",
      "mental\n",
      "MannwhitneyuResult(statistic=9530.5, pvalue=0.6845236466967526)\n",
      "substances\n",
      "MannwhitneyuResult(statistic=11200.0, pvalue=0.026935596440908524)\n",
      "sexual\n",
      "MannwhitneyuResult(statistic=9306.0, pvalue=0.07185227384993356)\n",
      "food\n",
      "MannwhitneyuResult(statistic=9059.5, pvalue=0.20618588913487124)\n",
      "death\n",
      "MannwhitneyuResult(statistic=8835.5, pvalue=0.024678651619677514)\n",
      "need\n",
      "MannwhitneyuResult(statistic=10311.0, pvalue=0.3515908809825259)\n",
      "want\n",
      "MannwhitneyuResult(statistic=9203.5, pvalue=0.35437165237729673)\n",
      "acquire\n",
      "MannwhitneyuResult(statistic=11864.0, pvalue=0.0016994491086890896)\n",
      "lack\n",
      "MannwhitneyuResult(statistic=8747.5, pvalue=0.0215946419298429)\n",
      "fulfill\n",
      "MannwhitneyuResult(statistic=9755.5, pvalue=0.991722630983442)\n",
      "fatigue\n",
      "MannwhitneyuResult(statistic=9487.0, pvalue=0.482019739184287)\n",
      "reward\n",
      "MannwhitneyuResult(statistic=9489.0, pvalue=0.33794748390660756)\n",
      "risk\n",
      "MannwhitneyuResult(statistic=9706.0, pvalue=0.9345193930208372)\n",
      "curiosity\n",
      "MannwhitneyuResult(statistic=10716.5, pvalue=0.04079368183585071)\n",
      "allure\n",
      "MannwhitneyuResult(statistic=10339.0, pvalue=0.3845817480870727)\n",
      "family\n",
      "MannwhitneyuResult(statistic=8656.0, pvalue=0.007844126193213065)\n",
      "friend\n",
      "MannwhitneyuResult(statistic=9140.0, pvalue=0.15845650202705697)\n",
      "focuspast\n",
      "MannwhitneyuResult(statistic=10963.0, pvalue=0.07267830770256138)\n",
      "focuspresent\n",
      "MannwhitneyuResult(statistic=9138.0, pvalue=0.36617674890366525)\n",
      "focusfuture\n",
      "MannwhitneyuResult(statistic=10599.0, pvalue=0.20139676906387605)\n",
      "moral\n",
      "MannwhitneyuResult(statistic=8903.0, pvalue=0.0480318045317416)\n",
      "prosocial\n",
      "MannwhitneyuResult(statistic=11807.0, pvalue=0.0006695510088944688)\n",
      "conflict\n",
      "MannwhitneyuResult(statistic=8636.5, pvalue=0.010015376058985111)\n"
     ]
    }
   ],
   "source": [
    "# which categories are significantly different between inquisition and disclosure\n",
    "results_dep = []\n",
    "for c in liwc_cats:\n",
    "    print(c)\n",
    "    print(mannwhitneyu(liwc_i[liwc_i['subjective'] == 'dependency'][c], \n",
    "                  liwc_disc[liwc_disc['subjective'] == 'dependency'][c]))\n",
    "    results_dep.append([c, \n",
    "                    mannwhitneyu(liwc_i[liwc_i['subjective'] == 'dependency'][c],\n",
    "                                    liwc_disc[liwc_disc['subjective'] == 'dependency'][c]).statistic,\n",
    "                    mannwhitneyu(liwc_i[liwc_i['subjective'] == 'dependency'][c],\n",
    "                                 liwc_disc[liwc_disc['subjective'] == 'dependency'][c]).pvalue])\n"
   ]
  },
  {
   "cell_type": "code",
   "execution_count": 50,
   "metadata": {},
   "outputs": [],
   "source": [
    "liwc_ratio2 = liwc_ratio.melt(id_vars='subjective', var_name='category', value_name='ratio')\n",
    "\n",
    "# liwc_ratio2.to_csv('../output/liwc_ratio2.csv')"
   ]
  },
  {
   "cell_type": "code",
   "execution_count": 53,
   "metadata": {},
   "outputs": [
    {
     "data": {
      "image/png": "[encoded data removed]",
      "text/plain": [
       "<Figure size 1200x600 with 1 Axes>"
      ]
     },
     "metadata": {},
     "output_type": "display_data"
    }
   ],
   "source": [
    "# Extracting data for each category\n",
    "dependency_data = [liwc_ratio2['ratio'][i] for i in range(len(liwc_ratio2['subjective'])) if liwc_ratio2['subjective'][i] == 'dependency']\n",
    "other_data = [liwc_ratio2['ratio'][i] for i in range(len(liwc_ratio2['subjective'])) if liwc_ratio2['subjective'][i] == 'other']\n",
    "recovery_data = [liwc_ratio2['ratio'][i] for i in range(len(liwc_ratio2['subjective'])) if liwc_ratio2['subjective'][i] == 'recovery']\n",
    "\n",
    "categories = list(set(liwc_ratio2['category']))  # Unique categories\n",
    "\n",
    "# Plot\n",
    "plt.figure(figsize=(12, 6))\n",
    "\n",
    "plt.bar(np.arange(len(categories)) - 0.2, dependency_data, width=0.2, align='center', label='Dependency')\n",
    "plt.bar(np.arange(len(categories)), other_data, width=0.2, align = 'center', label='Other')\n",
    "plt.bar(np.arange(len(categories)) + 0.2, recovery_data, width=0.2, align='center', label='Recovery')\n",
    "\n",
    "plt.xticks(np.arange(len(categories)), categories, rotation=90)\n",
    "plt.ylabel('Ratio of means (disclosure/inquisition)')\n",
    "plt.legend()\n",
    "plt.title('Ratio of means between disclosure and inquisition for each subjective')\n",
    "plt.tight_layout()\n",
    "\n",
    "plt.savefig('../output/liwc_ratio.png')"
   ]
  },
  {
   "cell_type": "code",
   "execution_count": 66,
   "metadata": {},
   "outputs": [],
   "source": [
    "# computer pairwise comparisons\n",
    "from scipy.stats import ttest_ind\n",
    "def pairwise_t_tests(data):\n",
    "    p_values = {}\n",
    "    for i in range(len(data)):\n",
    "        for j in range(i+1, len(data)):\n",
    "            p_values[(i, j)] = ttest_ind(data[i], data[j])[1]\n",
    "    return p_values\n"
   ]
  },
  {
   "cell_type": "code",
   "execution_count": 69,
   "metadata": {},
   "outputs": [],
   "source": [
    "p_values = pairwise_t_tests([dependency_data, other_data, recovery_data])"
   ]
  },
  {
   "cell_type": "code",
   "execution_count": 70,
   "metadata": {},
   "outputs": [],
   "source": [
    "# print out the p-values\n",
    "for k, v in p_values.items():\n",
    "    if v < 0.05:\n",
    "        print(k, v)"
   ]
  }
 ],
 "metadata": {
  "kernelspec": {
   "display_name": "base",
   "language": "python",
   "name": "python3"
  },
  "language_info": {
   "codemirror_mode": {
    "name": "ipython",
    "version": 3
   },
   "file_extension": ".py",
   "mimetype": "text/x-python",
   "name": "python",
   "nbconvert_exporter": "python",
   "pygments_lexer": "ipython3",
   "version": "3.9.13"
  }
 },
 "nbformat": 4,
 "nbformat_minor": 2
}

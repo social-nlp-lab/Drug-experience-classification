{
 "cells": [
  {
   "cell_type": "code",
   "execution_count": 1,
   "metadata": {},
   "outputs": [],
   "source": [
    "import pandas as pd\n",
    "import numpy as np\n",
    "from scipy.stats import kruskal, mannwhitneyu\n",
    "import matplotlib.pyplot as plt\n",
    "\n",
    "liwc = pd.read_csv('../output/LIWC.csv')\n",
    "liwc.drop(['Unnamed: 0', 'Unnamed: 0.1', 'objective'], axis=1, inplace=True)"
   ]
  },
  {
   "cell_type": "code",
   "execution_count": 2,
   "metadata": {},
   "outputs": [],
   "source": [
    "liwc_vars = liwc.columns[18:].to_list()\n",
    "connection = ['inquisition', 'disclosure']\n",
    "subject = ['dependency', 'recovery', 'other']\n",
    "objectives = ['Quality', 'Legality', 'Effects', 'Methods of Ingestion', 'Combination of Substances', 'Mental Health',\n",
    "          'N/A', 'Other', 'Overdose', 'Nurturant Support & Morality', 'Withdrawal', 'Safety', 'Relapse']\n",
    "# to lower\n",
    "objectives = [x.lower() for x in objectives]\n",
    "# determine which liwc categories are significant\n",
    "# manwhitneyu test for inquisition vs disclosure since there are only 2 groups\n",
    "results_c = []\n",
    "for c in liwc_vars:\n",
    "    results_c.append([c, \n",
    "                    mannwhitneyu(liwc[liwc['connection'] == 'inquisition'][c],\n",
    "                                    liwc[liwc['connection'] == 'disclosure'][c]).statistic,\n",
    "                    mannwhitneyu(liwc[liwc['connection'] == 'inquisition'][c],\n",
    "                                 liwc[liwc['connection'] == 'disclosure'][c]).pvalue])"
   ]
  },
  {
   "cell_type": "code",
   "execution_count": 3,
   "metadata": {},
   "outputs": [],
   "source": [
    "# correct pvalues with benjamini-hochberg\n",
    "from statsmodels.stats.multitest import multipletests, fdrcorrection\n",
    "results_c_df = pd.DataFrame(results_c, columns=['category', 'statistic', 'pvalue'])\n",
    "results_c_df['pvalue_corrected'] = fdrcorrection(results_c_df['pvalue'])[1]\n",
    "results_c_df['significant'] = results_c_df['pvalue_corrected'] < 0.05\n"
   ]
  },
  {
   "cell_type": "code",
   "execution_count": 3,
   "metadata": {},
   "outputs": [],
   "source": [
    "# store significant categories\n",
    "# results_c_sig = [x for x in results_c if x[2] < 0.05]\n",
    "# sig_cats = [x[0] for x in results_c if x[2] < 0.05]"
   ]
  },
  {
   "cell_type": "code",
   "execution_count": 4,
   "metadata": {},
   "outputs": [],
   "source": [
    "# get effect sizes - cohens d\n",
    "sig_cats = results_c_df[results_c_df['significant']]['category'].to_list()\n",
    "cohens_d = []\n",
    "for c in sig_cats:\n",
    "    inq = liwc[liwc['connection'] == 'inquisition'][c]\n",
    "    dis = liwc[liwc['connection'] == 'disclosure'][c]\n",
    "    cohens_d.append([c, (inq.mean() - dis.mean()) / (inq.std() + dis.std())])"
   ]
  },
  {
   "cell_type": "code",
   "execution_count": 5,
   "metadata": {},
   "outputs": [],
   "source": [
    "liwc_ratio = []\n",
    "for c in cohens_d:\n",
    "    inq = liwc[liwc['connection'] == 'inquisition'][c[0]].mean()\n",
    "    dis = liwc[liwc['connection'] == 'disclosure'][c[0]].mean()\n",
    "    liwc_ratio.append([c[0], inq/dis])"
   ]
  },
  {
   "cell_type": "code",
   "execution_count": 6,
   "metadata": {},
   "outputs": [
    {
     "name": "stderr",
     "output_type": "stream",
     "text": [
      "/var/folders/jj/bt0ykz9n5_16z2gvbybl0tbc0000gn/T/ipykernel_56352/754168063.py:4: SettingWithCopyWarning: \n",
      "A value is trying to be set on a copy of a slice from a DataFrame.\n",
      "Try using .loc[row_indexer,col_indexer] = value instead\n",
      "\n",
      "See the caveats in the documentation: https://pandas.pydata.org/pandas-docs/stable/user_guide/indexing.html#returning-a-view-versus-a-copy\n",
      "  connection_analysis['cohens_d'] = [x[1] for x in cohens_d]\n",
      "/var/folders/jj/bt0ykz9n5_16z2gvbybl0tbc0000gn/T/ipykernel_56352/754168063.py:5: SettingWithCopyWarning: \n",
      "A value is trying to be set on a copy of a slice from a DataFrame.\n",
      "Try using .loc[row_indexer,col_indexer] = value instead\n",
      "\n",
      "See the caveats in the documentation: https://pandas.pydata.org/pandas-docs/stable/user_guide/indexing.html#returning-a-view-versus-a-copy\n",
      "  connection_analysis['ratio'] = [x[1] for x in liwc_ratio]\n"
     ]
    }
   ],
   "source": [
    "# combine manwhitney and cohensd and export\n",
    "# connection_analysis = pd.DataFrame(results_c_sig, columns=['category', 'statistic', 'pvalue'])\n",
    "connection_analysis = results_c_df[results_c_df['significant']]\n",
    "connection_analysis['cohens_d'] = [x[1] for x in cohens_d]\n",
    "connection_analysis['ratio'] = [x[1] for x in liwc_ratio]\n",
    "connection_analysis.to_csv('../output/connection_analysis_CORRECTED.csv')"
   ]
  },
  {
   "cell_type": "markdown",
   "metadata": {},
   "source": [
    "---\n",
    "\n",
    "## Subject - ALL & RECOVERY VS DEPENDENCY\n"
   ]
  },
  {
   "cell_type": "code",
   "execution_count": 8,
   "metadata": {},
   "outputs": [],
   "source": [
    "# difference in means\n",
    "results_s = []\n",
    "for c in liwc_vars:\n",
    "    results_s.append([c, \n",
    "                    mannwhitneyu(liwc[liwc['subjective'] == 'dependency'][c],\n",
    "                                    liwc[liwc['subjective'] == 'recovery'][c]).statistic,\n",
    "                    mannwhitneyu(liwc[liwc['subjective'] == 'dependency'][c],\n",
    "                                 liwc[liwc['subjective'] == 'recovery'][c]).pvalue])\n",
    "\n",
    "# correct pvalues with benjamini-hochberg\n",
    "results_s_df = pd.DataFrame(results_s, columns=['category', 'statistic', 'pvalue'])\n",
    "results_s_df['pvalue_corrected'] = fdrcorrection(results_s_df['pvalue'])[1]\n",
    "results_s_df['significant'] = results_s_df['pvalue_corrected'] < 0.05\n",
    "\n",
    "\n",
    "# results_s_sig = [x for x in results_s if x[2] < 0.05]\n",
    "# sig_cats_s = [x[0] for x in results_s if x[2] < 0.05]"
   ]
  },
  {
   "cell_type": "code",
   "execution_count": 9,
   "metadata": {},
   "outputs": [],
   "source": [
    "sig_cats_s = results_s_df[results_s_df['significant']]['category'].to_list()\n",
    "cohens_d_s_rec = []\n",
    "for c in sig_cats_s:\n",
    "    dep = liwc[liwc['subjective'] == 'dependency'][c]\n",
    "    rec = liwc[liwc['subjective'] == 'recovery'][c]\n",
    "    cohens_d_s_rec.append([c, (rec.mean() - dep.mean()) / (rec.std() + dep.std())])"
   ]
  },
  {
   "cell_type": "code",
   "execution_count": 10,
   "metadata": {},
   "outputs": [],
   "source": [
    "# ratio\n",
    "liwc_ratio_s = []\n",
    "for c in cohens_d_s_rec:\n",
    "    dep = liwc[liwc['subjective'] == 'dependency'][c[0]].mean()\n",
    "    rec = liwc[liwc['subjective'] == 'recovery'][c[0]].mean()\n",
    "    liwc_ratio_s.append([c[0], rec/dep])"
   ]
  },
  {
   "cell_type": "code",
   "execution_count": 11,
   "metadata": {},
   "outputs": [],
   "source": [
    "# merge\n",
    "# subjective_analysis = pd.DataFrame(results_s_sig, columns=['category', 'statistic', 'pvalue'])\n",
    "subjective_analysis = results_s_df[results_s_df['significant']]\n",
    "subjective_analysis['cohens_d'] = [x[1] for x in cohens_d_s_rec]\n",
    "subjective_analysis['ratio'] = [x[1] for x in liwc_ratio_s]\n",
    "subjective_analysis.to_csv('../output/subjective_analysis_CORRECTED.csv')"
   ]
  },
  {
   "cell_type": "code",
   "execution_count": 12,
   "metadata": {},
   "outputs": [],
   "source": [
    "# inquisition\n",
    "liwc_inq = liwc[liwc['connection'] == 'inquisition']\n",
    "results_inq_s = []\n",
    "for c in liwc_vars:\n",
    "    results_inq_s.append([c, \n",
    "                    mannwhitneyu(liwc_inq[liwc_inq['subjective'] == 'dependency'][c],\n",
    "                                    liwc_inq[liwc_inq['subjective'] == 'recovery'][c]).statistic,\n",
    "                    mannwhitneyu(liwc_inq[liwc_inq['subjective'] == 'dependency'][c],\n",
    "                                 liwc_inq[liwc_inq['subjective'] == 'recovery'][c]).pvalue])\n",
    "    \n",
    "# correct pvalues with benjamini-hochberg\n",
    "results_inq_s_df = pd.DataFrame(results_inq_s, columns=['category', 'statistic', 'pvalue'])\n",
    "results_inq_s_df['pvalue_corrected'] = fdrcorrection(results_inq_s_df['pvalue'])[1]\n",
    "results_inq_s_df['significant'] = results_inq_s_df['pvalue_corrected'] < 0.05\n",
    "\n",
    "# results_inq_s_sig = [x for x in results_inq_s if x[2] < 0.05]\n",
    "# sig_cats_inq_s = [x[0] for x in results_inq_s if x[2] < 0.05]"
   ]
  },
  {
   "cell_type": "code",
   "execution_count": 13,
   "metadata": {},
   "outputs": [],
   "source": [
    "sig_cats_inq_s = results_inq_s_df[results_inq_s_df['significant']]['category'].to_list()\n",
    "\n",
    "cohens_d_inq_s_rec = []\n",
    "for c in sig_cats_inq_s:\n",
    "    dep = liwc_inq[liwc_inq['subjective'] == 'dependency'][c]\n",
    "    rec = liwc_inq[liwc_inq['subjective'] == 'recovery'][c]\n",
    "    cohens_d_inq_s_rec.append([c, (rec.mean() - dep.mean()) / (rec.std() + dep.std())])\n",
    "\n",
    "# ratio\n",
    "liwc_ratio_inq_s = []\n",
    "for c in cohens_d_inq_s_rec:\n",
    "    dep = liwc_inq[liwc_inq['subjective'] == 'dependency'][c[0]].mean()\n",
    "    rec = liwc_inq[liwc_inq['subjective'] == 'recovery'][c[0]].mean()\n",
    "    liwc_ratio_inq_s.append([c[0], rec/dep])\n",
    "    "
   ]
  },
  {
   "cell_type": "code",
   "execution_count": 14,
   "metadata": {},
   "outputs": [],
   "source": [
    "# merge\n",
    "# inquisition_analysis = pd.DataFrame(results_inq_s_sig, columns=['category', 'statistic', 'pvalue'])\n",
    "inquisition_analysis = results_inq_s_df[results_inq_s_df['significant']]\n",
    "inquisition_analysis['cohens_d'] = [x[1] for x in cohens_d_inq_s_rec]\n",
    "inquisition_analysis['ratio'] = [x[1] for x in liwc_ratio_inq_s]\n",
    "inquisition_analysis.to_csv('../output/inquisition_analysis_CORRECTED.csv')"
   ]
  },
  {
   "cell_type": "code",
   "execution_count": 15,
   "metadata": {},
   "outputs": [],
   "source": [
    "# disclosure\n",
    "liwc_dis = liwc[liwc['connection'] == 'disclosure']\n",
    "results_dis_s = []\n",
    "for c in liwc_vars:\n",
    "    results_dis_s.append([c, \n",
    "                    mannwhitneyu(liwc_dis[liwc_dis['subjective'] == 'dependency'][c],\n",
    "                                    liwc_dis[liwc_dis['subjective'] == 'recovery'][c]).statistic,\n",
    "                    mannwhitneyu(liwc_dis[liwc_dis['subjective'] == 'dependency'][c],\n",
    "                                 liwc_dis[liwc_dis['subjective'] == 'recovery'][c]).pvalue])\n",
    "    \n",
    "# correct pvalues with benjamini-hochberg\n",
    "results_dis_s_df = pd.DataFrame(results_dis_s, columns=['category', 'statistic', 'pvalue'])\n",
    "results_dis_s_df['pvalue_corrected'] = fdrcorrection(results_dis_s_df['pvalue'])[1]\n",
    "results_dis_s_df['significant'] = results_dis_s_df['pvalue_corrected'] < 0.05\n",
    "\n",
    "# results_dis_s_sig = [x for x in results_dis_s if x[2] < 0.05]\n",
    "# sig_cats_dis_s = [x[0] for x in results_dis_s if x[2] < 0.05]"
   ]
  },
  {
   "cell_type": "code",
   "execution_count": 17,
   "metadata": {},
   "outputs": [],
   "source": [
    "sig_cats_dis_s = results_dis_s_df[results_dis_s_df['significant']]['category'].to_list()\n",
    "\n",
    "cohens_d_dis_s_rec = []\n",
    "for c in sig_cats_dis_s:\n",
    "    dep = liwc_dis[liwc_dis['subjective'] == 'dependency'][c]\n",
    "    rec = liwc_dis[liwc_dis['subjective'] == 'recovery'][c]\n",
    "    cohens_d_dis_s_rec.append([c, (rec.mean() - dep.mean()) / (rec.std() + dep.std())])\n",
    "\n",
    "# ratio\n",
    "liwc_ratio_dis_s = []\n",
    "for c in cohens_d_dis_s_rec:\n",
    "    dep = liwc_dis[liwc_dis['subjective'] == 'dependency'][c[0]].mean()\n",
    "    rec = liwc_dis[liwc_dis['subjective'] == 'recovery'][c[0]].mean()\n",
    "    liwc_ratio_dis_s.append([c[0], rec/dep])\n",
    "\n",
    "# merge\n",
    "# disclosure_analysis = pd.DataFrame(results_dis_s_sig, columns=['category', 'statistic', 'pvalue'])\n",
    "disclosure_analysis = results_dis_s_df[results_dis_s_df['significant']]\n",
    "disclosure_analysis['cohens_d'] = [x[1] for x in cohens_d_dis_s_rec]\n",
    "disclosure_analysis['ratio'] = [x[1] for x in liwc_ratio_dis_s]\n",
    "disclosure_analysis.to_csv('../output/disclosure_analysis.csv')"
   ]
  },
  {
   "cell_type": "markdown",
   "metadata": {},
   "source": [
    "## OBJECTIVES"
   ]
  },
  {
   "cell_type": "code",
   "execution_count": 18,
   "metadata": {},
   "outputs": [],
   "source": [
    "# effects\tmethods\tcombination\tmental health\tnurturant\twithdrawal\tsafety\trelapse\n",
    "liwc_effects = liwc[liwc['effects'] == 1]\n",
    "\n",
    "results_effects_s = []\n",
    "for c in liwc_vars:\n",
    "    results_effects_s.append([c, \n",
    "                    mannwhitneyu(liwc_effects[liwc_effects['subjective'] == 'dependency'][c],\n",
    "                                    liwc_effects[liwc_effects['subjective'] == 'recovery'][c]).statistic,\n",
    "                    mannwhitneyu(liwc_effects[liwc_effects['subjective'] == 'dependency'][c],\n",
    "                                 liwc_effects[liwc_effects['subjective'] == 'recovery'][c]).pvalue])\n",
    "    \n",
    "# correct pvalues with benjamini-hochberg\n",
    "results_effects_s_df = pd.DataFrame(results_effects_s, columns=['category', 'statistic', 'pvalue'])\n",
    "results_effects_s_df['pvalue_corrected'] = fdrcorrection(results_effects_s_df['pvalue'])[1]\n",
    "results_effects_s_df['significant'] = results_effects_s_df['pvalue_corrected'] < 0.05\n",
    "\n",
    "# results_effects_s_sig = [x for x in results_effects_s if x[2] < 0.05]\n",
    "# sig_cats_effects_s = [x[0] for x in results_effects_s if x[2] < 0.05]"
   ]
  },
  {
   "cell_type": "code",
   "execution_count": 19,
   "metadata": {},
   "outputs": [],
   "source": [
    "sig_cats_effects_s = results_effects_s_df[results_effects_s_df['significant']]['category'].to_list()\n",
    "\n",
    "cohens_d_effects_rec = []\n",
    "for c in sig_cats_effects_s:\n",
    "    dep = liwc_effects[liwc_effects['subjective'] == 'dependency'][c]\n",
    "    rec = liwc_effects[liwc_effects['subjective'] == 'recovery'][c]\n",
    "    cohens_d_effects_rec.append([c, (rec.mean() - dep.mean()) / (rec.std() + dep.std())])\n",
    "\n",
    "# ratio\n",
    "liwc_ratio_effects = []\n",
    "for c in cohens_d_effects_rec:\n",
    "    dep = liwc_effects[liwc_effects['subjective'] == 'dependency'][c[0]].mean()\n",
    "    rec = liwc_effects[liwc_effects['subjective'] == 'recovery'][c[0]].mean()\n",
    "    liwc_ratio_effects.append([c[0], rec/dep])\n",
    "\n",
    "# merge\n",
    "results_effects_s_sig = results_effects_s_df[results_effects_s_df['significant']]\n",
    "effects_analysis = pd.DataFrame(results_effects_s_sig, columns=['category', 'statistic', 'pvalue'])\n",
    "effects_analysis['cohens_d'] = [x[1] for x in cohens_d_effects_rec]\n",
    "effects_analysis['ratio'] = [x[1] for x in liwc_ratio_effects]\n"
   ]
  },
  {
   "cell_type": "code",
   "execution_count": 20,
   "metadata": {},
   "outputs": [],
   "source": [
    "# turn into a function\n",
    "def get_analysis(df, objective):\n",
    "    results = []\n",
    "    df2 = df[df[objective] == 1]\n",
    "    for c in liwc_vars:\n",
    "        results.append([c, \n",
    "                        mannwhitneyu(df2[df2['subjective'] == 'dependency'][c],\n",
    "                                        df2[df2['subjective'] == 'recovery'][c]).statistic,\n",
    "                        mannwhitneyu(df2[df2['subjective'] == 'dependency'][c],\n",
    "                                     df2[df2['subjective'] == 'recovery'][c]).pvalue])\n",
    "\n",
    "    # results_sig = [x for x in results if x[2] < 0.05]\n",
    "    # sig_cats = [x[0] for x in results if x[2] < 0.05]\n",
    "    # benjamini-hochberg\n",
    "    results_df = pd.DataFrame(results, columns=['category', 'statistic', 'pvalue'])\n",
    "    results_df['pvalue_corrected'] = fdrcorrection(results_df['pvalue'])[1]\n",
    "    results_df['significant'] = results_df['pvalue_corrected'] < 0.05\n",
    "\n",
    "    sig_cats = results_df[results_df['significant']]['category'].to_list()\n",
    "    cohens_d_rec = []\n",
    "    for c in sig_cats:\n",
    "        dep = df2[df2['subjective'] == 'dependency'][c]\n",
    "        rec = df2[df2['subjective'] == 'recovery'][c]\n",
    "        cohens_d_rec.append([c, (rec.mean() - dep.mean()) / (rec.std() + dep.std())])\n",
    "\n",
    "    # ratio\n",
    "    liwc_ratio = []\n",
    "    for c in cohens_d_rec:\n",
    "        dep = df2[df2['subjective'] == 'dependency'][c[0]].mean()\n",
    "        rec = df2[df2['subjective'] == 'recovery'][c[0]].mean()\n",
    "        liwc_ratio.append([c[0], rec/dep])\n",
    "\n",
    "    # merge\n",
    "    # analysis = pd.DataFrame(results_sig, columns=['category', 'statistic', 'pvalue'])\n",
    "    analysis = results_df[results_df['significant']]\n",
    "    analysis['cohens_d'] = [x[1] for x in cohens_d_rec]\n",
    "    analysis['ratio'] = [x[1] for x in liwc_ratio]\n",
    "    return analysis"
   ]
  },
  {
   "cell_type": "code",
   "execution_count": 21,
   "metadata": {},
   "outputs": [],
   "source": [
    "methods = get_analysis(liwc, 'methods of ingestion')\n",
    "combo = get_analysis(liwc, 'combination of substances')\n",
    "mental = get_analysis(liwc, 'mental health')\n",
    "nurturant = get_analysis(liwc, 'nurturant support & morality')\n",
    "withdrawal = get_analysis(liwc, 'withdrawal')\n",
    "safety = get_analysis(liwc, 'safety')\n",
    "relapse = get_analysis(liwc, 'relapse')"
   ]
  },
  {
   "cell_type": "code",
   "execution_count": 22,
   "metadata": {},
   "outputs": [],
   "source": [
    "# export to csv, different sheet\n",
    "with pd.ExcelWriter('../output/liwc_recovery_analysis_CORRECTED.xlsx') as writer:\n",
    "    # connection_analysis.to_excel(writer, sheet_name='connection_all')\n",
    "    subjective_analysis.to_excel(writer, sheet_name='subjective_all')\n",
    "    inquisition_analysis.to_excel(writer, sheet_name='inquisition')\n",
    "    disclosure_analysis.to_excel(writer, sheet_name='disclosure')\n",
    "    effects_analysis.to_excel(writer, sheet_name='effects')\n",
    "    methods.to_excel(writer, sheet_name='methods')\n",
    "    combo.to_excel(writer, sheet_name='combination')\n",
    "    mental.to_excel(writer, sheet_name='mental')\n",
    "    nurturant.to_excel(writer, sheet_name='nurturant')\n",
    "    withdrawal.to_excel(writer, sheet_name='withdrawal')\n",
    "    safety.to_excel(writer, sheet_name='safety')\n",
    "    relapse.to_excel(writer, sheet_name='relapse')"
   ]
  },
  {
   "cell_type": "markdown",
   "metadata": {},
   "source": [
    "### INQUISITION VS DISCLOSURE"
   ]
  },
  {
   "cell_type": "code",
   "execution_count": 23,
   "metadata": {},
   "outputs": [],
   "source": [
    "def get_analysis_c(df, variable):\n",
    "    results = []\n",
    "    if variable in objectives:\n",
    "        df2 = df[df[variable] == 1]\n",
    "    else:\n",
    "        df2 = df[df['subjective'] == variable]\n",
    "        \n",
    "    for c in liwc_vars:\n",
    "        results.append([c, \n",
    "                        mannwhitneyu(df2[df2['connection'] == 'inquisition'][c],\n",
    "                                        df2[df2['connection'] == 'disclosure'][c]).statistic,\n",
    "                        mannwhitneyu(df2[df2['connection'] == 'inquisition'][c],\n",
    "                                     df2[df2['connection'] == 'disclosure'][c]).pvalue])\n",
    "\n",
    "    # results_sig = [x for x in results if x[2] < 0.05]\n",
    "    # sig_cats = [x[0] for x in results if x[2] < 0.05]\n",
    "    # benjamini-hochberg\n",
    "    results_df = pd.DataFrame(results, columns=['category', 'statistic', 'pvalue'])\n",
    "    results_df['pvalue_corrected'] = fdrcorrection(results_df['pvalue'])[1]\n",
    "    results_df['significant'] = results_df['pvalue_corrected'] < 0.05\n",
    "\n",
    "    sig_cats = results_df[results_df['significant']]['category'].to_list()\n",
    "    cohens_d_inq = []\n",
    "    for c in sig_cats:\n",
    "        inq = df2[df2['connection'] == 'inquisition'][c]\n",
    "        dis = df2[df2['connection'] == 'disclosure'][c]\n",
    "        cohens_d_inq.append([c, (inq.mean() - dis.mean()) / (inq.std() + dis.std())])\n",
    "\n",
    "    # ratio\n",
    "    liwc_ratio = []\n",
    "    for c in cohens_d_inq:\n",
    "        inq = df2[df2['connection'] == 'inquisition'][c[0]].mean()\n",
    "        dis = df2[df2['connection'] == 'disclosure'][c[0]].mean()\n",
    "        liwc_ratio.append([c[0], inq/dis])\n",
    "\n",
    "    # merge\n",
    "    # analysis = pd.DataFrame(results_sig, columns=['category', 'statistic', 'pvalue'])\n",
    "    analysis = results_df[results_df['significant']]\n",
    "    analysis['cohens_d'] = [x[1] for x in cohens_d_inq]\n",
    "    analysis['ratio'] = [x[1] for x in liwc_ratio]\n",
    "    return analysis"
   ]
  },
  {
   "cell_type": "code",
   "execution_count": 24,
   "metadata": {},
   "outputs": [
    {
     "name": "stderr",
     "output_type": "stream",
     "text": [
      "/var/folders/jj/bt0ykz9n5_16z2gvbybl0tbc0000gn/T/ipykernel_56352/3269054169.py:39: SettingWithCopyWarning: \n",
      "A value is trying to be set on a copy of a slice from a DataFrame.\n",
      "Try using .loc[row_indexer,col_indexer] = value instead\n",
      "\n",
      "See the caveats in the documentation: https://pandas.pydata.org/pandas-docs/stable/user_guide/indexing.html#returning-a-view-versus-a-copy\n",
      "  analysis['cohens_d'] = [x[1] for x in cohens_d_inq]\n",
      "/var/folders/jj/bt0ykz9n5_16z2gvbybl0tbc0000gn/T/ipykernel_56352/3269054169.py:40: SettingWithCopyWarning: \n",
      "A value is trying to be set on a copy of a slice from a DataFrame.\n",
      "Try using .loc[row_indexer,col_indexer] = value instead\n",
      "\n",
      "See the caveats in the documentation: https://pandas.pydata.org/pandas-docs/stable/user_guide/indexing.html#returning-a-view-versus-a-copy\n",
      "  analysis['ratio'] = [x[1] for x in liwc_ratio]\n",
      "/var/folders/jj/bt0ykz9n5_16z2gvbybl0tbc0000gn/T/ipykernel_56352/3269054169.py:39: SettingWithCopyWarning: \n",
      "A value is trying to be set on a copy of a slice from a DataFrame.\n",
      "Try using .loc[row_indexer,col_indexer] = value instead\n",
      "\n",
      "See the caveats in the documentation: https://pandas.pydata.org/pandas-docs/stable/user_guide/indexing.html#returning-a-view-versus-a-copy\n",
      "  analysis['cohens_d'] = [x[1] for x in cohens_d_inq]\n",
      "/var/folders/jj/bt0ykz9n5_16z2gvbybl0tbc0000gn/T/ipykernel_56352/3269054169.py:40: SettingWithCopyWarning: \n",
      "A value is trying to be set on a copy of a slice from a DataFrame.\n",
      "Try using .loc[row_indexer,col_indexer] = value instead\n",
      "\n",
      "See the caveats in the documentation: https://pandas.pydata.org/pandas-docs/stable/user_guide/indexing.html#returning-a-view-versus-a-copy\n",
      "  analysis['ratio'] = [x[1] for x in liwc_ratio]\n",
      "/var/folders/jj/bt0ykz9n5_16z2gvbybl0tbc0000gn/T/ipykernel_56352/3269054169.py:39: SettingWithCopyWarning: \n",
      "A value is trying to be set on a copy of a slice from a DataFrame.\n",
      "Try using .loc[row_indexer,col_indexer] = value instead\n",
      "\n",
      "See the caveats in the documentation: https://pandas.pydata.org/pandas-docs/stable/user_guide/indexing.html#returning-a-view-versus-a-copy\n",
      "  analysis['cohens_d'] = [x[1] for x in cohens_d_inq]\n",
      "/var/folders/jj/bt0ykz9n5_16z2gvbybl0tbc0000gn/T/ipykernel_56352/3269054169.py:40: SettingWithCopyWarning: \n",
      "A value is trying to be set on a copy of a slice from a DataFrame.\n",
      "Try using .loc[row_indexer,col_indexer] = value instead\n",
      "\n",
      "See the caveats in the documentation: https://pandas.pydata.org/pandas-docs/stable/user_guide/indexing.html#returning-a-view-versus-a-copy\n",
      "  analysis['ratio'] = [x[1] for x in liwc_ratio]\n",
      "/var/folders/jj/bt0ykz9n5_16z2gvbybl0tbc0000gn/T/ipykernel_56352/3269054169.py:39: SettingWithCopyWarning: \n",
      "A value is trying to be set on a copy of a slice from a DataFrame.\n",
      "Try using .loc[row_indexer,col_indexer] = value instead\n",
      "\n",
      "See the caveats in the documentation: https://pandas.pydata.org/pandas-docs/stable/user_guide/indexing.html#returning-a-view-versus-a-copy\n",
      "  analysis['cohens_d'] = [x[1] for x in cohens_d_inq]\n",
      "/var/folders/jj/bt0ykz9n5_16z2gvbybl0tbc0000gn/T/ipykernel_56352/3269054169.py:40: SettingWithCopyWarning: \n",
      "A value is trying to be set on a copy of a slice from a DataFrame.\n",
      "Try using .loc[row_indexer,col_indexer] = value instead\n",
      "\n",
      "See the caveats in the documentation: https://pandas.pydata.org/pandas-docs/stable/user_guide/indexing.html#returning-a-view-versus-a-copy\n",
      "  analysis['ratio'] = [x[1] for x in liwc_ratio]\n",
      "/var/folders/jj/bt0ykz9n5_16z2gvbybl0tbc0000gn/T/ipykernel_56352/3269054169.py:39: SettingWithCopyWarning: \n",
      "A value is trying to be set on a copy of a slice from a DataFrame.\n",
      "Try using .loc[row_indexer,col_indexer] = value instead\n",
      "\n",
      "See the caveats in the documentation: https://pandas.pydata.org/pandas-docs/stable/user_guide/indexing.html#returning-a-view-versus-a-copy\n",
      "  analysis['cohens_d'] = [x[1] for x in cohens_d_inq]\n",
      "/var/folders/jj/bt0ykz9n5_16z2gvbybl0tbc0000gn/T/ipykernel_56352/3269054169.py:40: SettingWithCopyWarning: \n",
      "A value is trying to be set on a copy of a slice from a DataFrame.\n",
      "Try using .loc[row_indexer,col_indexer] = value instead\n",
      "\n",
      "See the caveats in the documentation: https://pandas.pydata.org/pandas-docs/stable/user_guide/indexing.html#returning-a-view-versus-a-copy\n",
      "  analysis['ratio'] = [x[1] for x in liwc_ratio]\n",
      "/var/folders/jj/bt0ykz9n5_16z2gvbybl0tbc0000gn/T/ipykernel_56352/3269054169.py:39: SettingWithCopyWarning: \n",
      "A value is trying to be set on a copy of a slice from a DataFrame.\n",
      "Try using .loc[row_indexer,col_indexer] = value instead\n",
      "\n",
      "See the caveats in the documentation: https://pandas.pydata.org/pandas-docs/stable/user_guide/indexing.html#returning-a-view-versus-a-copy\n",
      "  analysis['cohens_d'] = [x[1] for x in cohens_d_inq]\n",
      "/var/folders/jj/bt0ykz9n5_16z2gvbybl0tbc0000gn/T/ipykernel_56352/3269054169.py:40: SettingWithCopyWarning: \n",
      "A value is trying to be set on a copy of a slice from a DataFrame.\n",
      "Try using .loc[row_indexer,col_indexer] = value instead\n",
      "\n",
      "See the caveats in the documentation: https://pandas.pydata.org/pandas-docs/stable/user_guide/indexing.html#returning-a-view-versus-a-copy\n",
      "  analysis['ratio'] = [x[1] for x in liwc_ratio]\n",
      "/var/folders/jj/bt0ykz9n5_16z2gvbybl0tbc0000gn/T/ipykernel_56352/3269054169.py:39: SettingWithCopyWarning: \n",
      "A value is trying to be set on a copy of a slice from a DataFrame.\n",
      "Try using .loc[row_indexer,col_indexer] = value instead\n",
      "\n",
      "See the caveats in the documentation: https://pandas.pydata.org/pandas-docs/stable/user_guide/indexing.html#returning-a-view-versus-a-copy\n",
      "  analysis['cohens_d'] = [x[1] for x in cohens_d_inq]\n",
      "/var/folders/jj/bt0ykz9n5_16z2gvbybl0tbc0000gn/T/ipykernel_56352/3269054169.py:40: SettingWithCopyWarning: \n",
      "A value is trying to be set on a copy of a slice from a DataFrame.\n",
      "Try using .loc[row_indexer,col_indexer] = value instead\n",
      "\n",
      "See the caveats in the documentation: https://pandas.pydata.org/pandas-docs/stable/user_guide/indexing.html#returning-a-view-versus-a-copy\n",
      "  analysis['ratio'] = [x[1] for x in liwc_ratio]\n",
      "/var/folders/jj/bt0ykz9n5_16z2gvbybl0tbc0000gn/T/ipykernel_56352/3269054169.py:39: SettingWithCopyWarning: \n",
      "A value is trying to be set on a copy of a slice from a DataFrame.\n",
      "Try using .loc[row_indexer,col_indexer] = value instead\n",
      "\n",
      "See the caveats in the documentation: https://pandas.pydata.org/pandas-docs/stable/user_guide/indexing.html#returning-a-view-versus-a-copy\n",
      "  analysis['cohens_d'] = [x[1] for x in cohens_d_inq]\n",
      "/var/folders/jj/bt0ykz9n5_16z2gvbybl0tbc0000gn/T/ipykernel_56352/3269054169.py:40: SettingWithCopyWarning: \n",
      "A value is trying to be set on a copy of a slice from a DataFrame.\n",
      "Try using .loc[row_indexer,col_indexer] = value instead\n",
      "\n",
      "See the caveats in the documentation: https://pandas.pydata.org/pandas-docs/stable/user_guide/indexing.html#returning-a-view-versus-a-copy\n",
      "  analysis['ratio'] = [x[1] for x in liwc_ratio]\n",
      "/var/folders/jj/bt0ykz9n5_16z2gvbybl0tbc0000gn/T/ipykernel_56352/3269054169.py:39: SettingWithCopyWarning: \n",
      "A value is trying to be set on a copy of a slice from a DataFrame.\n",
      "Try using .loc[row_indexer,col_indexer] = value instead\n",
      "\n",
      "See the caveats in the documentation: https://pandas.pydata.org/pandas-docs/stable/user_guide/indexing.html#returning-a-view-versus-a-copy\n",
      "  analysis['cohens_d'] = [x[1] for x in cohens_d_inq]\n",
      "/var/folders/jj/bt0ykz9n5_16z2gvbybl0tbc0000gn/T/ipykernel_56352/3269054169.py:40: SettingWithCopyWarning: \n",
      "A value is trying to be set on a copy of a slice from a DataFrame.\n",
      "Try using .loc[row_indexer,col_indexer] = value instead\n",
      "\n",
      "See the caveats in the documentation: https://pandas.pydata.org/pandas-docs/stable/user_guide/indexing.html#returning-a-view-versus-a-copy\n",
      "  analysis['ratio'] = [x[1] for x in liwc_ratio]\n",
      "/var/folders/jj/bt0ykz9n5_16z2gvbybl0tbc0000gn/T/ipykernel_56352/3269054169.py:39: SettingWithCopyWarning: \n",
      "A value is trying to be set on a copy of a slice from a DataFrame.\n",
      "Try using .loc[row_indexer,col_indexer] = value instead\n",
      "\n",
      "See the caveats in the documentation: https://pandas.pydata.org/pandas-docs/stable/user_guide/indexing.html#returning-a-view-versus-a-copy\n",
      "  analysis['cohens_d'] = [x[1] for x in cohens_d_inq]\n",
      "/var/folders/jj/bt0ykz9n5_16z2gvbybl0tbc0000gn/T/ipykernel_56352/3269054169.py:40: SettingWithCopyWarning: \n",
      "A value is trying to be set on a copy of a slice from a DataFrame.\n",
      "Try using .loc[row_indexer,col_indexer] = value instead\n",
      "\n",
      "See the caveats in the documentation: https://pandas.pydata.org/pandas-docs/stable/user_guide/indexing.html#returning-a-view-versus-a-copy\n",
      "  analysis['ratio'] = [x[1] for x in liwc_ratio]\n"
     ]
    }
   ],
   "source": [
    "recovery = get_analysis_c(liwc, 'recovery')\n",
    "dependency = get_analysis_c(liwc, 'dependency')\n",
    "effects_c  = get_analysis_c(liwc, 'effects')\n",
    "methods_c = get_analysis_c(liwc, 'methods of ingestion')\n",
    "combo_c = get_analysis_c(liwc, 'combination of substances')\n",
    "mental_c = get_analysis_c(liwc, 'mental health')\n",
    "nurturant_c = get_analysis_c(liwc, 'nurturant support & morality')\n",
    "withdrawal_c = get_analysis_c(liwc, 'withdrawal')\n",
    "safety_c = get_analysis_c(liwc, 'safety')\n",
    "relapse_c = get_analysis_c(liwc, 'relapse')\n"
   ]
  },
  {
   "cell_type": "code",
   "execution_count": 25,
   "metadata": {},
   "outputs": [],
   "source": [
    "# merge\n",
    "with pd.ExcelWriter('../output/liwc_inquisition_analysis_CORRECTED.xlsx') as writer:\n",
    "    connection_analysis.to_excel(writer, sheet_name='connection_all')\n",
    "    recovery.to_excel(writer, sheet_name='recovery')\n",
    "    dependency.to_excel(writer, sheet_name='dependency')\n",
    "    effects_c.to_excel(writer, sheet_name='effects_c')\n",
    "    methods_c.to_excel(writer, sheet_name='methods_c')\n",
    "    combo_c.to_excel(writer, sheet_name='combination_c')\n",
    "    mental_c.to_excel(writer, sheet_name='mental_c')\n",
    "    nurturant_c.to_excel(writer, sheet_name='nurturant_c')\n",
    "    withdrawal_c.to_excel(writer, sheet_name='withdrawal_c')\n",
    "    safety_c.to_excel(writer, sheet_name='safety_c')\n",
    "    relapse_c.to_excel(writer, sheet_name='relapse_c')"
   ]
  },
  {
   "cell_type": "code",
   "execution_count": 49,
   "metadata": {},
   "outputs": [
    {
     "data": {
      "image/png": "[encoded data removed]",
      "text/plain": [
       "<Figure size 640x480 with 1 Axes>"
      ]
     },
     "metadata": {},
     "output_type": "display_data"
    }
   ],
   "source": [
    "# visualize liwc ratios\n",
    "# rec/dep\n",
    "\n",
    "# line plot, cateogry on the y axis and ratio on the x axis. 1 at the center. red lines for ratios less than 1, blue for greater than 1\n",
    "\n",
    "fig, ax = plt.subplots()\n",
    "ax.axvline(x=1, color='black', linestyle='--')\n",
    "# ax.axhline(y=0, color='black', linestyle='-')\n",
    "ax.set_xlim(0, 3)\n",
    "ax.set_ylim(0, 60)\n",
    "ax.set_xlabel('Ratio')\n",
    "ax.set_ylabel('Category')\n",
    "ax.set_title('LIWC Recovery Ratios')\n",
    "# ax.scatter([x[1] for x in liwc_ratio], [x[0] for x in liwc_ratio], color='black')\n",
    "# for i in liwc_ratio:\n",
    "#     if i[1] < 1:\n",
    "#         ax.plot(i[1], i[0], 'ro')\n",
    "#     else:\n",
    "#         ax.plot(i[1], i[0], 'bo')\n",
    "# violin plot centered at 1\n",
    "for i in range(len(liwc_ratio)):\n",
    "    if liwc_ratio[i][1] < 1:\n",
    "       ax.barh(i, liwc_ratio[i][1], color='red')\n",
    "    else:\n",
    "        ax.barh(i, liwc_ratio[i][1], color='blue')\n",
    "\n",
    "plt.show()\n",
    "\n"
   ]
  },
  {
   "cell_type": "code",
   "execution_count": 63,
   "metadata": {},
   "outputs": [],
   "source": [
    "# recovery vs depedency\n",
    "join_connection = disclosure_analysis.merge(inquisition_analysis, on='category', suffixes=('_inquisition', '_disclosure'), how='outer')\n",
    "join_connection=join_connection[['category', 'ratio_inquisition', 'ratio_disclosure']]"
   ]
  },
  {
   "cell_type": "code",
   "execution_count": 78,
   "metadata": {},
   "outputs": [
    {
     "data": {
      "image/png": "[encoded data removed]",
      "text/plain": [
       "<Figure size 1000x1000 with 1 Axes>"
      ]
     },
     "metadata": {},
     "output_type": "display_data"
    }
   ],
   "source": [
    "import seaborn as sns\n",
    "\n",
    "# Set the figure size   \n",
    "plt.figure(figsize=(10, 10))\n",
    "\n",
    "y = range(len(join_connection))\n",
    "labels = join_connection['category']\n",
    "plt.yticks(y, labels)\n",
    "\n",
    "plt.barh(y, width = join_connection['ratio_inquisition'], color='#8babf1')\n",
    "plt.barh(y, width = -join_connection['ratio_disclosure'], color='#f57600')\n",
    "plt.axvline(x=1, color='black', linestyle='--')\n",
    "\n",
    "# Set x-axis limit to center at 1\n",
    "xlim = max(abs(1 - join_connection['ratio_inquisition'].min()), abs(1 - join_connection['ratio_inquisition'].max()))\n",
    "plt.xlim(1 - xlim, 1 + xlim)\n",
    "# reset scale of x axis\n",
    "plt.xticks(np.arange(0,8, 0.5))\n",
    "\n",
    "# Set plot labels and title\n",
    "plt.xlabel('Ratios')\n",
    "plt.ylabel('LIWC Categories')\n",
    "plt.title('LIWC Ratios for Inquisition and Disclosure')\n",
    "\n",
    "# Show the plot\n",
    "plt.show()"
   ]
  },
  {
   "cell_type": "code",
   "execution_count": null,
   "metadata": {},
   "outputs": [],
   "source": []
  }
 ],
 "metadata": {
  "kernelspec": {
   "display_name": "base",
   "language": "python",
   "name": "python3"
  },
  "language_info": {
   "codemirror_mode": {
    "name": "ipython",
    "version": 3
   },
   "file_extension": ".py",
   "mimetype": "text/x-python",
   "name": "python",
   "nbconvert_exporter": "python",
   "pygments_lexer": "ipython3",
   "version": "3.9.13"
  }
 },
 "nbformat": 4,
 "nbformat_minor": 2
}

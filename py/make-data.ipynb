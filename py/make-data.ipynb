{
 "cells": [
  {
   "cell_type": "code",
   "execution_count": 1,
   "metadata": {},
   "outputs": [],
   "source": [
    "# create data for potato annotation tool\n",
    "# i: posts from 12 subreddits \n",
    "# o: json file with posts combined and split\n",
    "\n",
    "import json\n",
    "import pandas as pd"
   ]
  },
  {
   "cell_type": "code",
   "execution_count": 2,
   "metadata": {},
   "outputs": [],
   "source": [
    "path = \"../../../../OneDrive - Drexel University/Social_NLP_Lab/Datasets/Reddit Drug Data- RAW - DNT/Central/data Dec 1st 2022/data 2018_1_1 to 2022_7_30_\"\n",
    "# subs = ['benzodiazepines', 'cannabis', 'cocaine', 'opiates', 'Psychedelics', 'MDMA', \"LSD\", 'Autoflowers', 'ambien', 'shrooms', 'stims']\n",
    "subs2 = ['benzodiazepines', 'stims', 'opiates', 'cocaine']"
   ]
  },
  {
   "cell_type": "code",
   "execution_count": 3,
   "metadata": {},
   "outputs": [],
   "source": [
    "all_dat = pd.DataFrame()"
   ]
  },
  {
   "cell_type": "code",
   "execution_count": 5,
   "metadata": {},
   "outputs": [
    {
     "name": "stdout",
     "output_type": "stream",
     "text": [
      "benzodiazepines\n",
      "stims\n",
      "opiates\n",
      "cocaine\n"
     ]
    }
   ],
   "source": [
    "for sub in subs2:\n",
    "    print(sub)\n",
    "    with open(path + sub + '_submission.json', 'r') as f:\n",
    "        data = json.load(f)\n",
    "    df = pd.DataFrame(data[1])\n",
    "    df['subreddit'] = sub\n",
    "    # df['text'] = df['title'] + ' ' + df['selftext']\n",
    "    df = df[['subreddit', 'title', 'text']]\n",
    "    all_dat = pd.concat([all_dat, df])"
   ]
  },
  {
   "cell_type": "code",
   "execution_count": 11,
   "metadata": {},
   "outputs": [
    {
     "name": "stderr",
     "output_type": "stream",
     "text": [
      "/var/folders/jj/bt0ykz9n5_16z2gvbybl0tbc0000gn/T/ipykernel_90050/1975221777.py:7: FutureWarning: The frame.append method is deprecated and will be removed from pandas in a future version. Use pandas.concat instead.\n",
      "  all_dat2 = all_dat.append(drugs_df[['subreddit','title', 'text']], ignore_index=True)\n"
     ]
    }
   ],
   "source": [
    "# get Drugs\n",
    "with open(\"../../../../OneDrive - Drexel University/Social_NLP_Lab/Datasets/Reddit Drug Data- RAW - DNT/Central/data Dec 1st 2022/data 2018_1_1 to 2022_8_2_\" + 'Drugs' + '_submission.json', 'r') as f:\n",
    "    data = json.load(f)\n",
    "# append to df\n",
    "drugs_df = pd.DataFrame(data[1])\n",
    "drugs_df['subreddit'] = 'Drugs'\n",
    "all_dat2 = all_dat.append(drugs_df[['subreddit','title', 'text']], ignore_index=True)"
   ]
  },
  {
   "cell_type": "code",
   "execution_count": 6,
   "metadata": {},
   "outputs": [],
   "source": [
    "# shuffle and export to json\n",
    "all_dat3 = all_dat.sample(frac=1).reset_index(drop=True)\n",
    "all_dat3.to_json('../data/raw_dat/all_drug_posts.json', orient='records')"
   ]
  },
  {
   "cell_type": "code",
   "execution_count": 7,
   "metadata": {},
   "outputs": [],
   "source": [
    "# create data for classfication 1000\n",
    "import pickle\n",
    "seed = 2024\n",
    "all_dat4 = all_dat3.sample(n=1000, random_state=seed).reset_index(drop=True)\n",
    "pickle.dump(all_dat4, open('../data/raw_dat/posts_to_label_1000.pkl', 'wb'))"
   ]
  }
 ],
 "metadata": {
  "kernelspec": {
   "display_name": "Python 3",
   "language": "python",
   "name": "python3"
  },
  "language_info": {
   "codemirror_mode": {
    "name": "ipython",
    "version": 3
   },
   "file_extension": ".py",
   "mimetype": "text/x-python",
   "name": "python",
   "nbconvert_exporter": "python",
   "pygments_lexer": "ipython3",
   "version": "3.9.13"
  },
  "orig_nbformat": 4,
  "vscode": {
   "interpreter": {
    "hash": "aee8b7b246df8f9039afb4144a1f6fd8d2ca17a180786b69acc140d282b71a49"
   }
  }
 },
 "nbformat": 4,
 "nbformat_minor": 2
}

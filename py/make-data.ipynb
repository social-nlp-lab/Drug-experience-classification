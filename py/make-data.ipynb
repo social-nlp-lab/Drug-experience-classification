{
 "cells": [
  {
   "cell_type": "code",
   "execution_count": 7,
   "metadata": {},
   "outputs": [],
   "source": [
    "# create data for potato annotation tool\n",
    "# i: posts from 12 subreddits \n",
    "# o: json file with posts combined and split\n",
    "\n",
    "import json\n",
    "import pandas as pd"
   ]
  },
  {
   "cell_type": "code",
   "execution_count": 13,
   "metadata": {},
   "outputs": [],
   "source": [
    "path = \"../../../../OneDrive - Drexel University/Social_NLP_Lab/Datasets/Reddit Drug Data- RAW - DNT/Central/data Dec 1st 2022/data 2018_1_1 to 2022_7_30_\"\n",
    "subs = ['benzodiazepines', 'cannabis', 'cocaine', 'opiates', 'Psychedelics', 'MDMA', \"LSD\", 'Autoflowers', 'ambien', 'shrooms', 'stims']"
   ]
  },
  {
   "cell_type": "code",
   "execution_count": 16,
   "metadata": {},
   "outputs": [
    {
     "name": "stdout",
     "output_type": "stream",
     "text": [
      "benzodiazepines\n",
      "cannabis\n",
      "cocaine\n",
      "opiates\n",
      "Psychedelics\n",
      "MDMA\n",
      "LSD\n",
      "Autoflowers\n",
      "ambien\n",
      "shrooms\n",
      "stims\n"
     ]
    }
   ],
   "source": [
    "for sub in subs:\n",
    "    print(sub)\n",
    "    with open(path + sub + '_submission.json', 'r') as f:\n",
    "        data = json.load(f)\n",
    "    df = pd.DataFrame(data[1])\n",
    "    df['subreddit'] = sub\n",
    "    # df['text'] = df['title'] + ' ' + df['selftext']\n",
    "    all_dat = df[['subreddit', 'text']]"
   ]
  },
  {
   "cell_type": "code",
   "execution_count": 17,
   "metadata": {},
   "outputs": [
    {
     "name": "stderr",
     "output_type": "stream",
     "text": [
      "/var/folders/jj/bt0ykz9n5_16z2gvbybl0tbc0000gn/T/ipykernel_44282/1088533953.py:7: FutureWarning: The frame.append method is deprecated and will be removed from pandas in a future version. Use pandas.concat instead.\n",
      "  all_dat = all_dat.append(df[['subreddit', 'text']], ignore_index=True)\n"
     ]
    }
   ],
   "source": [
    "# get Drugs\n",
    "with open(\"../../../../OneDrive - Drexel University/Social_NLP_Lab/Datasets/Reddit Drug Data- RAW - DNT/Central/data Dec 1st 2022/data 2018_1_1 to 2022_8_2_\" + 'Drugs' + '_submission.json', 'r') as f:\n",
    "    data = json.load(f)\n",
    "# append to df\n",
    "df = pd.DataFrame(data[1])\n",
    "df['subreddit'] = 'Drugs'\n",
    "all_dat = all_dat.append(df[['subreddit', 'text']], ignore_index=True)"
   ]
  },
  {
   "cell_type": "code",
   "execution_count": 18,
   "metadata": {},
   "outputs": [],
   "source": [
    "# shuffle and export to json\n",
    "all_dat = all_dat.sample(frac=1).reset_index(drop=True)\n",
    "all_dat.to_json('../data/all_drug_posts.json', orient='records')"
   ]
  }
 ],
 "metadata": {
  "kernelspec": {
   "display_name": "Python 3",
   "language": "python",
   "name": "python3"
  },
  "language_info": {
   "codemirror_mode": {
    "name": "ipython",
    "version": 3
   },
   "file_extension": ".py",
   "mimetype": "text/x-python",
   "name": "python",
   "nbconvert_exporter": "python",
   "pygments_lexer": "ipython3",
   "version": "3.11.1"
  },
  "orig_nbformat": 4,
  "vscode": {
   "interpreter": {
    "hash": "aee8b7b246df8f9039afb4144a1f6fd8d2ca17a180786b69acc140d282b71a49"
   }
  }
 },
 "nbformat": 4,
 "nbformat_minor": 2
}

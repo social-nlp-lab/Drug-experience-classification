{
 "cells": [
  {
   "cell_type": "code",
   "execution_count": 23,
   "metadata": {},
   "outputs": [],
   "source": [
    "import pandas as pd\n",
    "import numpy as np\n",
    "import os\n",
    "\n",
    "maggie_dat = pd.read_csv(\"../data/zooni/sud-project-domain-expert-3-classifications.csv\")\n",
    "bob_dat = pd.read_csv(\"../data/zooni/sud-project-domain-expert-1-classifications.csv\")\n",
    "# rename subject_ids\n",
    "maggie_dat.rename(columns={\"subject_ids\":\"subject_id\"}, inplace=True)\n",
    "bob_dat.rename(columns={\"subject_ids\":\"subject_id\"}, inplace=True)"
   ]
  },
  {
   "cell_type": "code",
   "execution_count": 24,
   "metadata": {},
   "outputs": [],
   "source": [
    "# subject dat\n",
    "maggie_subject_dat = pd.read_csv(\"../data/zooni/sud-project-domain-expert-3-subjects.csv\")\n",
    "bob_subject_dat = pd.read_csv(\"../data/zooni/sud-project-domain-expert-1-subjects.csv\")"
   ]
  },
  {
   "cell_type": "code",
   "execution_count": null,
   "metadata": {},
   "outputs": [],
   "source": [
    "# join text to subject id\n",
    "bob_dat = bob_dat.merge(bob_subject_dat[['subject_id','locations']], on=\"subject_id\")\n",
    "maggie_dat = maggie_dat.merge(maggie_subject_dat[['subject_id','locations']], on=\"subject_id\")"
   ]
  },
  {
   "cell_type": "code",
   "execution_count": 27,
   "metadata": {},
   "outputs": [],
   "source": [
    "# get url from location - {\"0\":\"https://panoptes-uploads.zooniverse.org/subject_location/d575ddca-4811-4f09-8efd-d94bd8d7c30d.txt\"} \n",
    "maggie_dat['url'] = maggie_dat['locations'].apply(lambda x: x.split('\"')[3])\n",
    "bob_dat['url'] = bob_dat['locations'].apply(lambda x: x.split('\"')[3])"
   ]
  },
  {
   "cell_type": "code",
   "execution_count": 31,
   "metadata": {},
   "outputs": [
    {
     "name": "stderr",
     "output_type": "stream",
     "text": [
      "/var/folders/jj/bt0ykz9n5_16z2gvbybl0tbc0000gn/T/ipykernel_30716/1921217895.py:3: SettingWithCopyWarning: \n",
      "A value is trying to be set on a copy of a slice from a DataFrame\n",
      "\n",
      "See the caveats in the documentation: https://pandas.pydata.org/pandas-docs/stable/user_guide/indexing.html#returning-a-view-versus-a-copy\n",
      "  bob_dat['text'].iloc[i] = x.text\n"
     ]
    }
   ],
   "source": [
    "# pull text from location url\n",
    "import requests\n",
    "for i in range(len(bob_dat)):\n",
    "    x = requests.get(bob_dat['url'].iloc[i])\n",
    "    bob_dat['text'].iloc[i] = x.text"
   ]
  },
  {
   "cell_type": "code",
   "execution_count": 38,
   "metadata": {},
   "outputs": [
    {
     "data": {
      "text/plain": [
       "range(9, 101)"
      ]
     },
     "execution_count": 38,
     "metadata": {},
     "output_type": "execute_result"
    }
   ],
   "source": [
    "range(9,len(maggie_dat))"
   ]
  },
  {
   "cell_type": "code",
   "execution_count": 40,
   "metadata": {},
   "outputs": [
    {
     "name": "stderr",
     "output_type": "stream",
     "text": [
      "/var/folders/jj/bt0ykz9n5_16z2gvbybl0tbc0000gn/T/ipykernel_30716/2920141811.py:4: SettingWithCopyWarning: \n",
      "A value is trying to be set on a copy of a slice from a DataFrame\n",
      "\n",
      "See the caveats in the documentation: https://pandas.pydata.org/pandas-docs/stable/user_guide/indexing.html#returning-a-view-versus-a-copy\n",
      "  maggie_dat['text'].iloc[i] = x.text\n"
     ]
    }
   ],
   "source": [
    "maggie_dat['text'] = np.nan\n",
    "for i in range(len(maggie_dat)):\n",
    "    x = requests.get(maggie_dat['url'].iloc[i])\n",
    "    maggie_dat['text'].iloc[i] = x.text"
   ]
  },
  {
   "cell_type": "code",
   "execution_count": 32,
   "metadata": {},
   "outputs": [],
   "source": [
    "# extract\n",
    "def extract_annotations(df):\n",
    "    df['connection'] = df['annotations'].apply(lambda x: eval(x)[0]['value'])\n",
    "    df['subject'] = df['annotations'].apply(lambda x: eval(x)[1]['value'])\n",
    "    df['objective'] = df['annotations'].apply(lambda x: eval(x)[2]['value'])\n",
    "    return df\n"
   ]
  },
  {
   "cell_type": "code",
   "execution_count": 33,
   "metadata": {},
   "outputs": [],
   "source": [
    "maggie_dat = extract_annotations(maggie_dat)\n",
    "bob_dat = extract_annotations(bob_dat)"
   ]
  },
  {
   "cell_type": "code",
   "execution_count": 41,
   "metadata": {},
   "outputs": [],
   "source": [
    "# filter midnite club\n",
    "maggie_dat = maggie_dat[maggie_dat['user_name'] != \"midniteclub\"]\n",
    "bob_dat = bob_dat[bob_dat['user_name'] != \"midniteclub\"]\n",
    "# join annotations on text\n",
    "annotations = maggie_dat[['text','connection','subject','objective']].merge(bob_dat[['text','connection','subject','objective']], on=\"text\", suffixes=('_maggie','_bob'))"
   ]
  },
  {
   "cell_type": "code",
   "execution_count": 42,
   "metadata": {},
   "outputs": [],
   "source": [
    "# get aggreement\n",
    "import sklearn.metrics as metrics\n",
    "\n",
    "# connection cohen kappa\n",
    "maggie_connection = annotations['connection_maggie'].values\n",
    "bob_connection = annotations['connection_bob'].values\n",
    "cohen_kappa_connection = metrics.cohen_kappa_score(maggie_connection, bob_connection)"
   ]
  },
  {
   "cell_type": "code",
   "execution_count": 43,
   "metadata": {},
   "outputs": [
    {
     "name": "stdout",
     "output_type": "stream",
     "text": [
      "Connection Cohen Kappa: 0.7661444401987008\n"
     ]
    }
   ],
   "source": [
    "# print\n",
    "print(f\"Connection Cohen Kappa: {cohen_kappa_connection}\")"
   ]
  },
  {
   "cell_type": "code",
   "execution_count": 44,
   "metadata": {},
   "outputs": [
    {
     "name": "stdout",
     "output_type": "stream",
     "text": [
      "Subject Cohen Kappa: 0.28593652769135036\n"
     ]
    }
   ],
   "source": [
    "maggie_subjet = annotations['subject_maggie'].values\n",
    "bob_subject = annotations['subject_bob'].values\n",
    "cohen_kappa_subject = metrics.cohen_kappa_score(maggie_subjet, bob_subject)\n",
    "\n",
    "# print\n",
    "print(f\"Subject Cohen Kappa: {cohen_kappa_subject}\")"
   ]
  },
  {
   "cell_type": "code",
   "execution_count": null,
   "metadata": {},
   "outputs": [],
   "source": []
  }
 ],
 "metadata": {
  "kernelspec": {
   "display_name": "base",
   "language": "python",
   "name": "python3"
  },
  "language_info": {
   "codemirror_mode": {
    "name": "ipython",
    "version": 3
   },
   "file_extension": ".py",
   "mimetype": "text/x-python",
   "name": "python",
   "nbconvert_exporter": "python",
   "pygments_lexer": "ipython3",
   "version": "3.9.13"
  }
 },
 "nbformat": 4,
 "nbformat_minor": 2
}

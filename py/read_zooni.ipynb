{
 "cells": [
  {
   "cell_type": "code",
   "execution_count": 10,
   "metadata": {},
   "outputs": [],
   "source": [
    "# read data that have annotations from zooniverse\n",
    "\n",
    "import pandas as pd\n",
    "import numpy as np\n",
    "import os\n",
    "\n",
    "dat = \"../data/zooni/sud-project-classifications_1105.csv\" \n",
    "subject_dat = pd.read_csv(\"../data/zooni/sud-project-subjects.csv\")\n",
    "df = pd.read_csv(dat)"
   ]
  },
  {
   "cell_type": "code",
   "execution_count": 11,
   "metadata": {},
   "outputs": [],
   "source": [
    "# filter out test annotations\n",
    "df = df[df['workflow_name'] != 'Q1 - Flow_test']"
   ]
  },
  {
   "cell_type": "code",
   "execution_count": 12,
   "metadata": {},
   "outputs": [],
   "source": [
    "# parse annotation from json\n",
    "df['connection'] = df['annotations'].apply(lambda x: eval(x)[0]['value'])\n",
    "df['subject'] = df['annotations'].apply(lambda x: eval(x)[1]['value'])\n",
    "df['objective'] = df['annotations'].apply(lambda x: eval(x)[2]['value'])"
   ]
  },
  {
   "cell_type": "code",
   "execution_count": 13,
   "metadata": {},
   "outputs": [],
   "source": [
    "# {\"92915036\":{\"retired\":null,\"Filename\":\"text_2483.txt\"}}\n",
    "files = []\n",
    "for line in df[\"subject_data\"]:\n",
    "     # Replace 'null' with 'None' and parse the line as a dictionary\n",
    "    line = line.replace('null', 'None')\n",
    "    line_dict = eval(line)\n",
    "    # Access the first (and only) value in the dictionary\n",
    "    first_value = list(line_dict.values())[0]\n",
    "    # Extract the filename\n",
    "    filename = first_value.get(\"Filename\")\n",
    "    if filename is not None:\n",
    "        # Add the filename to the dataframe as a new column\n",
    "       files.append(filename)\n",
    "\n",
    "df['file'] = files"
   ]
  },
  {
   "cell_type": "code",
   "execution_count": 5,
   "metadata": {},
   "outputs": [],
   "source": [
    "# get post text\n",
    "subject_dat['file'] = subject_dat['metadata'].apply(lambda x: eval(x)['Filename'])\n",
    "subject_dat['location'] = subject_dat['locations'].apply(lambda x: eval(x)['0'])"
   ]
  },
  {
   "cell_type": "code",
   "execution_count": 6,
   "metadata": {},
   "outputs": [],
   "source": [
    "# filter \n",
    "subject_dat = subject_dat[subject_dat['subject_set_id'] == 116963]\n",
    "subject_dat = subject_dat[['subject_id', 'file', 'location']]"
   ]
  },
  {
   "cell_type": "code",
   "execution_count": 7,
   "metadata": {},
   "outputs": [],
   "source": [
    "# read text data from URL\n",
    "# import requests\n",
    "# subject_dat['text'] = subject_dat['location'].apply(lambda x: requests.get(x).text) "
   ]
  },
  {
   "cell_type": "code",
   "execution_count": 15,
   "metadata": {},
   "outputs": [],
   "source": [
    "import pickle\n",
    "\n",
    "subject_dat = pickle.load(open(\"../data/zooni/subject_dat.pkl\", \"rb\"))"
   ]
  },
  {
   "cell_type": "code",
   "execution_count": 16,
   "metadata": {},
   "outputs": [],
   "source": [
    "# join on file\n",
    "df = df.merge(subject_dat, on='file')\n"
   ]
  },
  {
   "cell_type": "code",
   "execution_count": 17,
   "metadata": {},
   "outputs": [],
   "source": [
    "pickle.dump(df, open(\"../data/zooni/annotations_1105.pkl\", \"wb\"))\n",
    "# pickle.dump(subject_dat, open(\"../data/zooni/subject_dat.pkl\", \"wb\"))"
   ]
  },
  {
   "cell_type": "code",
   "execution_count": null,
   "metadata": {},
   "outputs": [],
   "source": [
    "\n"
   ]
  }
 ],
 "metadata": {
  "kernelspec": {
   "display_name": "base",
   "language": "python",
   "name": "python3"
  },
  "language_info": {
   "codemirror_mode": {
    "name": "ipython",
    "version": 3
   },
   "file_extension": ".py",
   "mimetype": "text/x-python",
   "name": "python",
   "nbconvert_exporter": "python",
   "pygments_lexer": "ipython3",
   "version": "3.9.13"
  },
  "orig_nbformat": 4
 },
 "nbformat": 4,
 "nbformat_minor": 2
}

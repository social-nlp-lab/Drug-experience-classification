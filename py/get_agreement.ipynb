{
 "cells": [
  {
   "cell_type": "code",
   "execution_count": 5,
   "metadata": {},
   "outputs": [
    {
     "name": "stdout",
     "output_type": "stream",
     "text": [
      "True\n",
      "True\n",
      "True\n"
     ]
    },
    {
     "name": "stderr",
     "output_type": "stream",
     "text": [
      "/Users/laylabouzoubaa/opt/anaconda3/lib/python3.9/site-packages/openpyxl/worksheet/_read_only.py:79: UserWarning: Data Validation extension is not supported and will be removed\n",
      "  for idx, row in parser.parse():\n"
     ]
    }
   ],
   "source": [
    "import pandas as pd\n",
    "import krippendorff as kd\n",
    "import numpy as np\n",
    "\n",
    "# evaluation data n = 100 \n",
    "# annotated by max, layla, and minh (lay)\n",
    "# annotated by bob, lauren, and maggie (domain experts)\n",
    "\n",
    "# first round of agreement is on the first 50 posts\n",
    "eval_lb = pd.read_excel('../data/annotation_sets/expert_dat_LB2.xlsx')[0:50]\n",
    "eval_minh = pd.read_csv('../data/annotation_sets/expert_dat_minh2.csv')[0:50]   \n",
    "eval_max = pd.read_csv('../data/annotation_sets/expert_dat_max2.csv')[0:50]   \n",
    "\n",
    "# make sure its all the same posts\n",
    "print(eval_lb['d'].equals(eval_minh['id']))\n",
    "print(eval_lb['d'].equals(eval_max['id']))\n",
    "print(eval_minh['id'].equals(eval_max['id']))"
   ]
  },
  {
   "cell_type": "code",
   "execution_count": 6,
   "metadata": {},
   "outputs": [],
   "source": [
    "# convert all minh 'Yes' to 1 in all cols ow nan\n",
    "eval_minh = eval_minh.replace('Yes', 1)"
   ]
  },
  {
   "cell_type": "code",
   "execution_count": 3,
   "metadata": {},
   "outputs": [
    {
     "name": "stdout",
     "output_type": "stream",
     "text": [
      "CONNECTION\n",
      "percent full agreement 0.8\n",
      "percent agreement between layla and max 0.88\n",
      "percent agreement between layla and minh 0.84\n",
      "percent agreement between max and minh 0.88\n"
     ]
    }
   ],
   "source": [
    "# connection agreement\n",
    "connection = pd.DataFrame({'max': eval_max['connection'], 'layla': eval_lb['connection'], 'minh': eval_minh['connection']})\n",
    "# percent agreement\n",
    "print('CONNECTION')\n",
    "\n",
    "connection['full_agreement'] = connection.apply(lambda x: 1 if x['max'] == x['layla'] == x['minh'] else 0, axis=1)\n",
    "connection['layla_max'] = connection.apply(lambda x: 1 if x['max'] == x['layla'] else 0, axis=1)\n",
    "connection['layla_minh'] = connection.apply(lambda x: 1 if x['layla'] == x['minh'] else 0, axis=1)\n",
    "connection['max_minh'] = connection.apply(lambda x: 1 if x['max'] == x['minh'] else 0, axis=1)\n",
    "print('percent full agreement', connection['full_agreement'].sum()/len(connection))\n",
    "print('percent agreement between layla and max', connection['layla_max'].sum()/len(connection))\n",
    "print('percent agreement between layla and minh', connection['layla_minh'].sum()/len(connection))\n",
    "print('percent agreement between max and minh', connection['max_minh'].sum()/len(connection))"
   ]
  },
  {
   "cell_type": "code",
   "execution_count": 13,
   "metadata": {},
   "outputs": [
    {
     "name": "stderr",
     "output_type": "stream",
     "text": [
      "/Users/laylabouzoubaa/opt/anaconda3/lib/python3.9/site-packages/openpyxl/worksheet/_read_only.py:79: UserWarning: Data Validation extension is not supported and will be removed\n",
      "  for idx, row in parser.parse():\n"
     ]
    }
   ],
   "source": [
    "# agreement round two\n",
    "eval_lb2 = pd.read_excel('../data/annotation_sets/expert_dat_LB2.xlsx')[50:100]\n",
    "eval_max2 = pd.read_csv('../data/annotation_sets/expert_dat_max3.csv')[50:100]"
   ]
  },
  {
   "cell_type": "code",
   "execution_count": 14,
   "metadata": {},
   "outputs": [
    {
     "name": "stdout",
     "output_type": "stream",
     "text": [
      "connection krippendorff alpha 0.7339285714285715\n"
     ]
    }
   ],
   "source": [
    "#krippendorff alpha\n",
    "# convert to nominal scale\n",
    "connection[['max', 'layla', 'minh']] = connection[['max', 'layla', 'minh']].apply(lambda x: x.astype('category').cat.codes)\n",
    "reliability_connection = connection[['max', 'layla', 'minh']].T\n",
    "print('connection krippendorff alpha', kd.alpha(reliability_connection, level_of_measurement='nominal'))\n",
    "\n"
   ]
  },
  {
   "cell_type": "code",
   "execution_count": 15,
   "metadata": {},
   "outputs": [
    {
     "name": "stdout",
     "output_type": "stream",
     "text": [
      "percent full agreement round 2 0.92\n",
      "connection krippendorff alpha round 2 0.8405797101449275\n"
     ]
    }
   ],
   "source": [
    "# krippendorff alpha for the second round\n",
    "connection2 = pd.DataFrame({'max': eval_max2['connection'], 'layla': eval_lb2['connection']})\n",
    "# convert to nominal scale\n",
    "connection2[['max', 'layla']] = connection2[['max', 'layla']].apply(lambda x: x.astype('category').cat.codes)\n",
    "connection2['full_agreement'] = connection2.apply(lambda x: 1 if x['max'] == x['layla'] else 0, axis=1)\n",
    "print('percent full agreement round 2', connection2['full_agreement'].sum()/len(connection2))\n",
    "reliability_connection2 = connection2[['max', 'layla']].T\n",
    "print('connection krippendorff alpha round 2', kd.alpha(reliability_connection2, level_of_measurement='nominal'))"
   ]
  },
  {
   "cell_type": "code",
   "execution_count": 16,
   "metadata": {},
   "outputs": [
    {
     "name": "stdout",
     "output_type": "stream",
     "text": [
      "SUBJECT\n",
      "percent full agreement 0.5\n",
      "percent agreement between layla and max 0.74\n",
      "percent agreement between layla and minh 0.66\n",
      "percent agreement between max and minh 0.56\n"
     ]
    }
   ],
   "source": [
    "# subject\n",
    "subject = pd.DataFrame({'max': eval_max['subject (lived experience)'], 'layla': eval_lb['lived exp'], 'minh': eval_minh['lived experience']})\n",
    "# percent agreement\n",
    "print('SUBJECT')\n",
    "subject[['max', 'layla', 'minh']] = subject[['max', 'layla', 'minh']].apply(lambda x: x.astype('category').cat.codes)\n",
    "subject['full_agreement'] = subject.apply(lambda x: 1 if x['max'] == x['layla'] == x['minh'] else 0, axis=1)\n",
    "subject['layla_max'] = subject.apply(lambda x: 1 if x['max'] == x['layla'] else 0, axis=1)\n",
    "subject['layla_minh'] = subject.apply(lambda x: 1 if x['layla'] == x['minh'] else 0, axis=1)\n",
    "subject['max_minh'] = subject.apply(lambda x: 1 if x['max'] == x['minh'] else 0, axis=1)\n",
    "print('percent full agreement', subject['full_agreement'].sum()/len(subject))\n",
    "print('percent agreement between layla and max', subject['layla_max'].sum()/len(subject))\n",
    "print('percent agreement between layla and minh', subject['layla_minh'].sum()/len(subject))\n",
    "print('percent agreement between max and minh', subject['max_minh'].sum()/len(subject))"
   ]
  },
  {
   "cell_type": "code",
   "execution_count": 17,
   "metadata": {},
   "outputs": [
    {
     "name": "stdout",
     "output_type": "stream",
     "text": [
      "subject krippendorff alpha 0.43601688746542433\n"
     ]
    }
   ],
   "source": [
    "reliability_subject = subject[['max', 'layla', 'minh']].T\n",
    "print('subject krippendorff alpha', kd.alpha(reliability_subject, level_of_measurement='nominal'))"
   ]
  },
  {
   "cell_type": "code",
   "execution_count": 18,
   "metadata": {},
   "outputs": [
    {
     "name": "stdout",
     "output_type": "stream",
     "text": [
      "percent full agreement round 2 0.78\n",
      "subject krippendorff alpha round 2 0.5893665158371041\n"
     ]
    }
   ],
   "source": [
    "# subject round 2\n",
    "subject2 = pd.DataFrame({'max': eval_max2['subject'], 'layla': eval_lb2['lived exp']})\n",
    "subject2[['max', 'layla']] = subject2[['max', 'layla']].apply(lambda x: x.astype('category').cat.codes)\n",
    "subject2['full_agreement'] = subject2.apply(lambda x: 1 if x['max'] == x['layla'] else 0, axis=1)\n",
    "print('percent full agreement round 2', subject2['full_agreement'].sum()/len(subject2))\n",
    "reliability_subject2 = subject2[['max', 'layla']].T\n",
    "print('subject krippendorff alpha round 2', kd.alpha(reliability_subject2, level_of_measurement='nominal'))"
   ]
  },
  {
   "cell_type": "code",
   "execution_count": null,
   "metadata": {},
   "outputs": [],
   "source": [
    "# print codes for each class\n"
   ]
  },
  {
   "cell_type": "code",
   "execution_count": 10,
   "metadata": {},
   "outputs": [
    {
     "name": "stdout",
     "output_type": "stream",
     "text": [
      "subject cohen kappa between layla and max 0.5754408883082953\n",
      "subject cohen kappa between layla and minh 0.4378306878306878\n",
      "subject cohen kappa between max and minh 0.31421446384039897\n"
     ]
    }
   ],
   "source": [
    "# cohens kappa between each two annotators\n",
    "import sklearn.metrics as metrics\n",
    "print('subject cohen kappa between layla and max', metrics.cohen_kappa_score(subject['layla'], subject['max']))\n",
    "print('subject cohen kappa between layla and minh', metrics.cohen_kappa_score(subject['layla'], subject['minh']))\n",
    "print('subject cohen kappa between max and minh', metrics.cohen_kappa_score(subject['max'], subject['minh']))"
   ]
  },
  {
   "cell_type": "code",
   "execution_count": 53,
   "metadata": {},
   "outputs": [
    {
     "name": "stdout",
     "output_type": "stream",
     "text": [
      "Krippendorff's alpha: 0.3097728631201433\n"
     ]
    }
   ],
   "source": [
    "# double checking k alpha manually\n",
    "from itertools import chain\n",
    "from numpy import transpose, identity\n",
    "\n",
    "# This is 12x4 matrix where each row represents all 4 reviewers' ratings for one store,\n",
    "# and each column represents each reviewer's ratings for all 12 store locations.\n",
    "ratings = subject[['max', 'layla', 'minh']].values.tolist()\n",
    "\n",
    "# Helper function to calculate the agreement table:\n",
    "#   - each row i corresponds to a store\n",
    "#   - each column k represents a possible rating (1, 2, 3, or 4, in this case)\n",
    "#   - each table entry r_ik is the number of reviewers who gave store i rating k\n",
    "def get_agreement_table(ratings, categories):\n",
    "    agreement = []\n",
    "\n",
    "    for store in ratings:\n",
    "        category_counts = list(map(lambda category: store.count(category), categories))\n",
    "        if sum(category_counts) > 1: # Ignore any stores with less than two ratings\n",
    "            agreement.append(category_counts)\n",
    "\n",
    "    return agreement\n",
    "\n",
    "# Helper function that returns the weighted count of reviewers who gave store i a rating that at least partially matched category k\n",
    "# (For categorical data this is just the number of reviewers who picked category k)\n",
    "def get_weighted_rater_count(weights_k, agreement_i):\n",
    "    weighted_count = 0\n",
    "    for i in range(len(agreement_i)):\n",
    "        weighted_count += weights_k[i] * agreement_i[i]\n",
    "    return weighted_count\n",
    "\n",
    "# STEPS 1 & 2: CLEANING THE DATA AND BUILDING THE AGREEMENT TABLE\n",
    "\n",
    "# Get the set of all possible ratings our reviewer can give\n",
    "rating_categories = set(chain(*ratings)) \n",
    "# Remove the placeholder value for missing ratings\n",
    "# rating_categories.remove(None) \n",
    "agreement_table = get_agreement_table(ratings, rating_categories)\n",
    "\n",
    "# n is the number of stores (more generally, the number of items being rated)\n",
    "n = len(agreement_table) \n",
    "# q is the number of possible rating categories\n",
    "q = len(rating_categories) \n",
    "\n",
    "# get an array with r_i (the total number of reviewers who rated the ith store) for all stores\n",
    "raters_per_store = list(map(lambda r_ik: sum(r_ik), agreement_table)) \n",
    "# rhat is the average number of reviewers who rated each store\n",
    "rhat = sum(raters_per_store) / n \n",
    "\n",
    "# STEP 3: CHOOSING A WEIGHT FUNCTION\n",
    "\n",
    "# categorical weights are just the identity matrix (1 if the category matches and 0 otherwise)\n",
    "weights = identity(len(rating_categories)) \n",
    "\n",
    "# STEP 4: CALCULATING OBSERVED PERCENT AGREEMENT (p_a)\n",
    "percent_agreement = 0\n",
    "for i in range(n): # Find the percent agreement for every store\n",
    "    percent_agreement_i = 0\n",
    "    for k in range(q): # Find the percent agreement for every category for the ith store\n",
    "        rhat_ik = get_weighted_rater_count(weights[k], agreement_table[i])\n",
    "        ri = sum(agreement_table[i]) # Number of people who rated this store\n",
    "        percent_agreement_i_k = (agreement_table[i][k] * (rhat_ik - 1)) / (rhat * (ri - 1))\n",
    "        percent_agreement_i += percent_agreement_i_k\n",
    "    \n",
    "    percent_agreement += percent_agreement_i\n",
    "\n",
    "pa_prime = percent_agreement / n # Find the average store-level percent agreement\n",
    "\n",
    "total_rating_count = n * rhat\n",
    "pa = (1 - 1/(total_rating_count)) * pa_prime + 1/total_rating_count\n",
    "\n",
    "# STEP 5: CALCULATING EXPECTED PERCENT AGREEMENT (p_e)\n",
    "category_averages = list(map(lambda category: sum(category) / n, transpose(agreement_table)))\n",
    "classification_probabilities = list(map(lambda category_average: category_average / rhat, category_averages))\n",
    "\n",
    "pe = 0\n",
    "for k in range(q): # For every possible pair of rating categories\n",
    "    for l in range(q):\n",
    "        # Add the probability of those two categories being chosen at random, weighted by how closely they match\n",
    "        pe += classification_probabilities[k] * classification_probabilities[l] * weights[k][l] \n",
    "\n",
    "# STEP 6: CALCULATE KRIPPENDORFF'S ALPHA\n",
    "alpha = (pa - pe) / (1 - pe)\n",
    "print(f\"Krippendorff's alpha: {alpha}\")"
   ]
  },
  {
   "cell_type": "code",
   "execution_count": 8,
   "metadata": {},
   "outputs": [
    {
     "name": "stderr",
     "output_type": "stream",
     "text": [
      "/var/folders/jj/bt0ykz9n5_16z2gvbybl0tbc0000gn/T/ipykernel_87764/1541076937.py:3: SettingWithCopyWarning: \n",
      "A value is trying to be set on a copy of a slice from a DataFrame.\n",
      "Try using .loc[row_indexer,col_indexer] = value instead\n",
      "\n",
      "See the caveats in the documentation: https://pandas.pydata.org/pandas-docs/stable/user_guide/indexing.html#returning-a-view-versus-a-copy\n",
      "  subject_disagreement['text'] = eval_lb['text'][subject_disagreement.index]\n",
      "/var/folders/jj/bt0ykz9n5_16z2gvbybl0tbc0000gn/T/ipykernel_87764/1541076937.py:4: SettingWithCopyWarning: \n",
      "A value is trying to be set on a copy of a slice from a DataFrame.\n",
      "Try using .loc[row_indexer,col_indexer] = value instead\n",
      "\n",
      "See the caveats in the documentation: https://pandas.pydata.org/pandas-docs/stable/user_guide/indexing.html#returning-a-view-versus-a-copy\n",
      "  subject_disagreement['id'] = eval_lb['d'][subject_disagreement.index]\n"
     ]
    }
   ],
   "source": [
    "# pull posts with full disagreement\n",
    "subject_disagreement = subject[subject['full_agreement'] == 0]\n",
    "subject_disagreement['text'] = eval_lb['text'][subject_disagreement.index]\n",
    "subject_disagreement['id'] = eval_lb['d'][subject_disagreement.index]\n",
    "subject_disagreement.to_csv('../data/subject_disagreement2.csv')"
   ]
  },
  {
   "cell_type": "code",
   "execution_count": 9,
   "metadata": {},
   "outputs": [
    {
     "name": "stdout",
     "output_type": "stream",
     "text": [
      "QUALITY\n",
      "percent full agreement 0.78\n",
      "percent agreement between layla and max 0.92\n",
      "percent agreement between layla and minh 0.82\n",
      "percent agreement between max and minh 0.82\n",
      "krippendorff alpha 0.3415026114905584\n",
      "\n",
      "\n",
      "LEGALITY\n",
      "percent full agreement 0.94\n",
      "percent agreement between layla and max 0.96\n",
      "percent agreement between layla and minh 0.96\n",
      "percent agreement between max and minh 0.96\n",
      "krippendorff alpha 0.5534465534465535\n",
      "\n",
      "\n",
      "EFFECTS\n",
      "percent full agreement 0.76\n",
      "percent agreement between layla and max 0.84\n",
      "percent agreement between layla and minh 0.8\n",
      "percent agreement between max and minh 0.88\n",
      "krippendorff alpha 0.6491365777080063\n",
      "\n",
      "\n",
      "METHODS OF INGESTION\n",
      "percent full agreement 0.42\n",
      "percent agreement between layla and max 0.84\n",
      "percent agreement between layla and minh 0.52\n",
      "percent agreement between max and minh 0.48\n",
      "krippendorff alpha 0.2149345930232559\n",
      "\n",
      "\n",
      "COMBINATION OF SUBSTANCES\n",
      "percent full agreement 0.72\n",
      "percent agreement between layla and max 0.78\n",
      "percent agreement between layla and minh 0.82\n",
      "percent agreement between max and minh 0.84\n",
      "krippendorff alpha 0.45972545972545975\n",
      "\n",
      "\n",
      "MENTAL HEALTH\n",
      "percent full agreement 0.6\n",
      "percent agreement between layla and max 0.68\n",
      "percent agreement between layla and minh 0.74\n",
      "percent agreement between max and minh 0.78\n",
      "krippendorff alpha 0.21080508474576265\n",
      "\n",
      "\n",
      "N/A\n",
      "percent full agreement 0.92\n",
      "percent agreement between layla and max 0.92\n",
      "percent agreement between layla and minh 1.0\n",
      "percent agreement between max and minh 0.92\n",
      "krippendorff alpha 0.5742857142857143\n",
      "\n",
      "\n",
      "OTHER\n",
      "percent full agreement 0.6\n",
      "percent agreement between layla and max 0.7\n",
      "percent agreement between layla and minh 0.86\n",
      "percent agreement between max and minh 0.64\n",
      "krippendorff alpha 0.1026799156880458\n",
      "\n",
      "\n",
      "OVERDOSE\n",
      "percent full agreement 0.96\n",
      "percent agreement between layla and max 0.98\n",
      "percent agreement between layla and minh 0.98\n",
      "percent agreement between max and minh 0.96\n",
      "krippendorff alpha 0.6550925925925926\n",
      "\n",
      "\n",
      "NURTURANT SUPPORT & MORALITY\n",
      "percent full agreement 0.78\n",
      "percent agreement between layla and max 0.86\n",
      "percent agreement between layla and minh 0.86\n",
      "percent agreement between max and minh 0.84\n",
      "krippendorff alpha 0.3696153846153847\n",
      "\n",
      "\n",
      "WITHDRAWAL\n",
      "percent full agreement 0.9\n",
      "percent agreement between layla and max 0.9\n",
      "percent agreement between layla and minh 0.94\n",
      "percent agreement between max and minh 0.96\n",
      "krippendorff alpha 0.7449503594659364\n",
      "\n",
      "\n",
      "SAFETY\n",
      "percent full agreement 0.7\n",
      "percent agreement between layla and max 0.74\n",
      "percent agreement between layla and minh 0.9\n",
      "percent agreement between max and minh 0.76\n",
      "krippendorff alpha 0.5383185292294981\n",
      "\n",
      "\n",
      "RELAPSE\n",
      "percent full agreement 0.88\n",
      "percent agreement between layla and max 0.9\n",
      "percent agreement between layla and minh 0.94\n",
      "percent agreement between max and minh 0.92\n",
      "krippendorff alpha 0.5304621848739495\n",
      "\n",
      "\n"
     ]
    }
   ],
   "source": [
    "# objectives\n",
    "objectives = ['Quality', 'Legality', 'Effects', 'Methods of Ingestion', 'Combination of Substances', 'Mental Health',\n",
    "          'N/A', 'Other', 'Overdose', 'Nurturant Support & Morality', 'Withdrawal', 'Safety', 'Relapse']\n",
    "# convert to lower\n",
    "objectives = [x.lower() for x in objectives]\n",
    "# get agreement for each objective\n",
    "for obj in objectives:\n",
    "    print(obj.upper())\n",
    "    obj_df = pd.DataFrame({'max': eval_max[obj], 'layla': eval_lb[obj], 'minh': eval_minh[obj]})\n",
    "    # convert nan to 0\n",
    "    obj_df = obj_df.fillna(0)\n",
    "    obj_df['full_agreement'] = obj_df.apply(lambda x: 1 if x['max'] == x['layla'] == x['minh'] else 0, axis=1)\n",
    "    obj_df['layla_max'] = obj_df.apply(lambda x: 1 if x['max'] == x['layla'] else 0, axis=1)\n",
    "    obj_df['layla_minh'] = obj_df.apply(lambda x: 1 if x['layla'] == x['minh'] else 0, axis=1)\n",
    "    obj_df['max_minh'] = obj_df.apply(lambda x: 1 if x['max'] == x['minh'] else 0, axis=1)\n",
    "    print('percent full agreement', obj_df['full_agreement'].sum()/len(obj_df))\n",
    "    print('percent agreement between layla and max', obj_df['layla_max'].sum()/len(obj_df))\n",
    "    print('percent agreement between layla and minh', obj_df['layla_minh'].sum()/len(obj_df))\n",
    "    print('percent agreement between max and minh', obj_df['max_minh'].sum()/len(obj_df))\n",
    "    obj_df[['max', 'layla', 'minh']] = obj_df[['max', 'layla', 'minh']].apply(lambda x: x.astype('category').cat.codes)\n",
    "    reliability_obj = obj_df[['max', 'layla', 'minh']].T\n",
    "    print('krippendorff alpha', kd.alpha(reliability_obj, level_of_measurement='nominal'))\n",
    "    print('\\n')"
   ]
  },
  {
   "cell_type": "code",
   "execution_count": null,
   "metadata": {},
   "outputs": [],
   "source": []
  }
 ],
 "metadata": {
  "kernelspec": {
   "display_name": "base",
   "language": "python",
   "name": "python3"
  },
  "language_info": {
   "codemirror_mode": {
    "name": "ipython",
    "version": 3
   },
   "file_extension": ".py",
   "mimetype": "text/x-python",
   "name": "python",
   "nbconvert_exporter": "python",
   "pygments_lexer": "ipython3",
   "version": "3.9.13"
  }
 },
 "nbformat": 4,
 "nbformat_minor": 2
}

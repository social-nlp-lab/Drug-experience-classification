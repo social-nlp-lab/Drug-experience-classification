{
 "cells": [
  {
   "cell_type": "code",
   "execution_count": 1,
   "metadata": {},
   "outputs": [],
   "source": [
    "import pandas as pd\n",
    "import numpy as np\n",
    "import pickle\n",
    "# data\n",
    "dat = pickle.load(open('../data/zooni/annotations_1105.pkl', 'rb'))"
   ]
  },
  {
   "cell_type": "markdown",
   "metadata": {},
   "source": [
    "----\n",
    "## BASELINES\n",
    "\n",
    "\n",
    "### Connection TYPE\n",
    "RF and KNN"
   ]
  },
  {
   "cell_type": "code",
   "execution_count": 3,
   "metadata": {},
   "outputs": [],
   "source": [
    "# create connection df\n",
    "connection = dat[['connection', 'text']]"
   ]
  },
  {
   "cell_type": "code",
   "execution_count": 4,
   "metadata": {},
   "outputs": [
    {
     "name": "stdout",
     "output_type": "stream",
     "text": [
      "              precision    recall  f1-score   support\n",
      "\n",
      "  Disclosure       0.69      0.29      0.41        31\n",
      " Inquisition       0.58      0.88      0.70        34\n",
      "\n",
      "    accuracy                           0.60        65\n",
      "   macro avg       0.63      0.59      0.55        65\n",
      "weighted avg       0.63      0.60      0.56        65\n",
      "\n"
     ]
    }
   ],
   "source": [
    "\n",
    "# connection is already binary values so no need to encode\n",
    "from sklearn.model_selection import train_test_split\n",
    "from sklearn.feature_extraction.text import CountVectorizer, TfidfVectorizer\n",
    "from sklearn.ensemble import RandomForestClassifier\n",
    "from sklearn.neighbors import KNeighborsClassifier\n",
    "from sklearn.multioutput import MultiOutputClassifier\n",
    "from sklearn.metrics import classification_report\n",
    "\n",
    "X = connection['text']\n",
    "y = connection['connection']\n",
    "\n",
    "X_train, X_test, y_train, y_test = train_test_split(X, y, random_state=42, stratify=y, test_size=0.2)\n",
    "\n",
    "# vectorize\n",
    "vect = CountVectorizer(stop_words='english', ngram_range=(1,3))\n",
    "X_train_vect = vect.fit_transform(X_train)\n",
    "X_test_vect = vect.transform(X_test)\n",
    "\n",
    "# fit model\n",
    "rf = RandomForestClassifier()\n",
    "rf.fit(X_train_vect, y_train)\n",
    "\n",
    "# predict\n",
    "y_pred = rf.predict(X_test_vect)\n",
    "\n",
    "# evaluate\n",
    "print(classification_report(y_test, y_pred))"
   ]
  },
  {
   "cell_type": "code",
   "execution_count": 12,
   "metadata": {},
   "outputs": [
    {
     "name": "stdout",
     "output_type": "stream",
     "text": [
      "              precision    recall  f1-score   support\n",
      "\n",
      "  Disclosure       0.00      0.00      0.00        31\n",
      " Inquisition       0.52      1.00      0.69        34\n",
      "\n",
      "    accuracy                           0.52        65\n",
      "   macro avg       0.26      0.50      0.34        65\n",
      "weighted avg       0.27      0.52      0.36        65\n",
      "\n"
     ]
    },
    {
     "name": "stderr",
     "output_type": "stream",
     "text": [
      "/Users/laylabouzoubaa/opt/anaconda3/lib/python3.9/site-packages/sklearn/neighbors/_classification.py:237: FutureWarning: Unlike other reduction functions (e.g. `skew`, `kurtosis`), the default behavior of `mode` typically preserves the axis it acts along. In SciPy 1.11.0, this behavior will change: the default value of `keepdims` will become False, the `axis` over which the statistic is taken will be eliminated, and the value None will no longer be accepted. Set `keepdims` to True or False to avoid this warning.\n",
      "  mode, _ = stats.mode(_y[neigh_ind, k], axis=1)\n",
      "/Users/laylabouzoubaa/opt/anaconda3/lib/python3.9/site-packages/sklearn/metrics/_classification.py:1327: UndefinedMetricWarning: Precision and F-score are ill-defined and being set to 0.0 in labels with no predicted samples. Use `zero_division` parameter to control this behavior.\n",
      "  _warn_prf(average, modifier, msg_start, len(result))\n",
      "/Users/laylabouzoubaa/opt/anaconda3/lib/python3.9/site-packages/sklearn/metrics/_classification.py:1327: UndefinedMetricWarning: Precision and F-score are ill-defined and being set to 0.0 in labels with no predicted samples. Use `zero_division` parameter to control this behavior.\n",
      "  _warn_prf(average, modifier, msg_start, len(result))\n",
      "/Users/laylabouzoubaa/opt/anaconda3/lib/python3.9/site-packages/sklearn/metrics/_classification.py:1327: UndefinedMetricWarning: Precision and F-score are ill-defined and being set to 0.0 in labels with no predicted samples. Use `zero_division` parameter to control this behavior.\n",
      "  _warn_prf(average, modifier, msg_start, len(result))\n"
     ]
    }
   ],
   "source": [
    "# KNN\n",
    "knn = KNeighborsClassifier()\n",
    "knn.fit(X_train_vect, y_train)\n",
    "\n",
    "# predict\n",
    "y_pred = knn.predict(X_test_vect)\n",
    "\n",
    "# evaluate\n",
    "print(classification_report(y_test, y_pred))"
   ]
  },
  {
   "cell_type": "code",
   "execution_count": 13,
   "metadata": {},
   "outputs": [],
   "source": [
    "# export test data for LLM evaluation\n",
    "test_data = pd.DataFrame({'text': X_test, 'connection': y_test})\n",
    "test_data.to_csv('../data/connection_test_data2.csv', index=False)"
   ]
  },
  {
   "cell_type": "markdown",
   "metadata": {},
   "source": [
    "-- \n",
    "\n",
    "### Subject"
   ]
  },
  {
   "cell_type": "code",
   "execution_count": 4,
   "metadata": {},
   "outputs": [
    {
     "name": "stderr",
     "output_type": "stream",
     "text": [
      "/var/folders/jj/bt0ykz9n5_16z2gvbybl0tbc0000gn/T/ipykernel_70413/1795297431.py:6: SettingWithCopyWarning: \n",
      "A value is trying to be set on a copy of a slice from a DataFrame.\n",
      "Try using .loc[row_indexer,col_indexer] = value instead\n",
      "\n",
      "See the caveats in the documentation: https://pandas.pydata.org/pandas-docs/stable/user_guide/indexing.html#returning-a-view-versus-a-copy\n",
      "  subj['subject'] = le.fit_transform(subj['subject'])\n"
     ]
    }
   ],
   "source": [
    "subj = dat[['subject', 'text']]\n",
    "\n",
    "# encode\n",
    "from sklearn.preprocessing import LabelEncoder\n",
    "le = LabelEncoder()\n",
    "subj['subject'] = le.fit_transform(subj['subject'])\n"
   ]
  },
  {
   "cell_type": "code",
   "execution_count": 14,
   "metadata": {},
   "outputs": [
    {
     "name": "stdout",
     "output_type": "stream",
     "text": [
      "              precision    recall  f1-score   support\n",
      "\n",
      "           0       0.35      0.25      0.29        24\n",
      "           1       0.00      0.00      0.00         6\n",
      "           2       0.38      0.77      0.51        22\n",
      "           3       0.67      0.15      0.25        13\n",
      "\n",
      "    accuracy                           0.38        65\n",
      "   macro avg       0.35      0.29      0.26        65\n",
      "weighted avg       0.39      0.38      0.33        65\n",
      "\n"
     ]
    },
    {
     "name": "stderr",
     "output_type": "stream",
     "text": [
      "/Users/laylabouzoubaa/opt/anaconda3/lib/python3.9/site-packages/sklearn/metrics/_classification.py:1327: UndefinedMetricWarning: Precision and F-score are ill-defined and being set to 0.0 in labels with no predicted samples. Use `zero_division` parameter to control this behavior.\n",
      "  _warn_prf(average, modifier, msg_start, len(result))\n",
      "/Users/laylabouzoubaa/opt/anaconda3/lib/python3.9/site-packages/sklearn/metrics/_classification.py:1327: UndefinedMetricWarning: Precision and F-score are ill-defined and being set to 0.0 in labels with no predicted samples. Use `zero_division` parameter to control this behavior.\n",
      "  _warn_prf(average, modifier, msg_start, len(result))\n",
      "/Users/laylabouzoubaa/opt/anaconda3/lib/python3.9/site-packages/sklearn/metrics/_classification.py:1327: UndefinedMetricWarning: Precision and F-score are ill-defined and being set to 0.0 in labels with no predicted samples. Use `zero_division` parameter to control this behavior.\n",
      "  _warn_prf(average, modifier, msg_start, len(result))\n"
     ]
    }
   ],
   "source": [
    "X = subj['text']\n",
    "y = subj['subject']\n",
    "\n",
    "X_train, X_test, y_train, y_test = train_test_split(X, y, random_state=42, stratify=y, test_size=0.2)\n",
    "\n",
    "# vectorize\n",
    "vect = CountVectorizer(stop_words='english', ngram_range=(1,3))\n",
    "X_train_vect = vect.fit_transform(X_train)\n",
    "X_test_vect = vect.transform(X_test)\n",
    "\n",
    "# fit model\n",
    "rf = RandomForestClassifier()\n",
    "rf.fit(X_train_vect, y_train)\n",
    "\n",
    "# predict\n",
    "y_pred = rf.predict(X_test_vect)\n",
    "\n",
    "# evaluate\n",
    "print(classification_report(y_test, y_pred))"
   ]
  },
  {
   "cell_type": "code",
   "execution_count": 15,
   "metadata": {},
   "outputs": [
    {
     "name": "stdout",
     "output_type": "stream",
     "text": [
      "              precision    recall  f1-score   support\n",
      "\n",
      "           0       0.67      0.08      0.15        24\n",
      "           1       0.00      0.00      0.00         6\n",
      "           2       0.36      1.00      0.53        22\n",
      "           3       1.00      0.08      0.14        13\n",
      "\n",
      "    accuracy                           0.38        65\n",
      "   macro avg       0.51      0.29      0.21        65\n",
      "weighted avg       0.57      0.38      0.26        65\n",
      "\n"
     ]
    },
    {
     "name": "stderr",
     "output_type": "stream",
     "text": [
      "/Users/laylabouzoubaa/opt/anaconda3/lib/python3.9/site-packages/sklearn/neighbors/_classification.py:237: FutureWarning: Unlike other reduction functions (e.g. `skew`, `kurtosis`), the default behavior of `mode` typically preserves the axis it acts along. In SciPy 1.11.0, this behavior will change: the default value of `keepdims` will become False, the `axis` over which the statistic is taken will be eliminated, and the value None will no longer be accepted. Set `keepdims` to True or False to avoid this warning.\n",
      "  mode, _ = stats.mode(_y[neigh_ind, k], axis=1)\n",
      "/Users/laylabouzoubaa/opt/anaconda3/lib/python3.9/site-packages/sklearn/metrics/_classification.py:1327: UndefinedMetricWarning: Precision and F-score are ill-defined and being set to 0.0 in labels with no predicted samples. Use `zero_division` parameter to control this behavior.\n",
      "  _warn_prf(average, modifier, msg_start, len(result))\n",
      "/Users/laylabouzoubaa/opt/anaconda3/lib/python3.9/site-packages/sklearn/metrics/_classification.py:1327: UndefinedMetricWarning: Precision and F-score are ill-defined and being set to 0.0 in labels with no predicted samples. Use `zero_division` parameter to control this behavior.\n",
      "  _warn_prf(average, modifier, msg_start, len(result))\n",
      "/Users/laylabouzoubaa/opt/anaconda3/lib/python3.9/site-packages/sklearn/metrics/_classification.py:1327: UndefinedMetricWarning: Precision and F-score are ill-defined and being set to 0.0 in labels with no predicted samples. Use `zero_division` parameter to control this behavior.\n",
      "  _warn_prf(average, modifier, msg_start, len(result))\n"
     ]
    }
   ],
   "source": [
    "# knn\n",
    "knn = KNeighborsClassifier()\n",
    "knn.fit(X_train_vect, y_train)\n",
    "\n",
    "# predict\n",
    "y_pred = knn.predict(X_test_vect)\n",
    "\n",
    "# evaluate\n",
    "print(classification_report(y_test, y_pred))\n"
   ]
  },
  {
   "cell_type": "code",
   "execution_count": 16,
   "metadata": {},
   "outputs": [],
   "source": [
    "# export test data for LLM evaluation\n",
    "test_data = pd.DataFrame({'text': X_test, 'subject': y_test})\n",
    "test_data.to_csv('../data/subject_test_data2.csv', index=False)"
   ]
  },
  {
   "cell_type": "markdown",
   "metadata": {},
   "source": [
    "--\n",
    "### Objective"
   ]
  },
  {
   "cell_type": "code",
   "execution_count": 5,
   "metadata": {},
   "outputs": [],
   "source": [
    "objectives = ['Quality', 'Legality', 'Effects', 'Methods', 'Combination of Substances', 'Mental Health',\n",
    "          'N/A', 'Other', 'Overdose', 'Nurturant Support & Morality', 'Withdrawal', 'Safety', 'Relapse']\n",
    "\n",
    "# create a column for each topic\n",
    "obj = pd.DataFrame(columns=objectives)\n",
    "\n",
    "for t in objectives:\n",
    "    obj[t] = dat['objective'].apply(lambda x: 1 if t in x else 0)\n",
    "\n",
    "obj = obj.fillna(0)\n",
    "\n",
    "# add the text column\n",
    "obj['Text'] = dat['text']"
   ]
  },
  {
   "cell_type": "code",
   "execution_count": 3,
   "metadata": {},
   "outputs": [],
   "source": [
    "# # sample data\n",
    "# dat = {'Symptoms':[1,0,0,0,0],\n",
    "#        'Guidance':[0,1,0,0,0],\n",
    "#        'Withdrawal': [0,0,1,0,0],\n",
    "#        'Recovery':[0,0,0,1,0],\n",
    "#        'Relapse':[0,0,0,0,1],\n",
    "#        'Text':['I am feeling very depressed today',\n",
    "#                'I am feeling very depressed today',\n",
    "#                'I am feeling very depressed today',\n",
    "#                'I am feeling very depressed today',\n",
    "#                'I am feeling very depressed today']}\n",
    "# dat = pd.DataFrame(dat)"
   ]
  },
  {
   "cell_type": "code",
   "execution_count": 6,
   "metadata": {},
   "outputs": [
    {
     "name": "stdout",
     "output_type": "stream",
     "text": [
      "Random Forest Classifier Metrics:\n",
      "              precision    recall  f1-score   support\n",
      "\n",
      "           0       0.00      0.00      0.00         6\n",
      "           1       0.00      0.00      0.00         1\n",
      "           2       0.60      0.12      0.19        26\n",
      "           3       0.00      0.00      0.00         0\n",
      "           4       1.00      0.08      0.14        13\n",
      "           5       0.00      0.00      0.00        12\n",
      "           6       0.00      0.00      0.00         3\n",
      "           7       0.00      0.00      0.00         8\n",
      "           8       0.00      0.00      0.00         8\n",
      "           9       0.00      0.00      0.00         5\n",
      "          10       0.00      0.00      0.00         8\n",
      "          11       0.00      0.00      0.00         6\n",
      "          12       0.00      0.00      0.00         5\n",
      "\n",
      "   micro avg       0.67      0.04      0.07       101\n",
      "   macro avg       0.12      0.01      0.03       101\n",
      "weighted avg       0.28      0.04      0.07       101\n",
      " samples avg       0.06      0.03      0.04       101\n",
      "\n"
     ]
    },
    {
     "name": "stderr",
     "output_type": "stream",
     "text": [
      "/Users/laylabouzoubaa/opt/anaconda3/lib/python3.9/site-packages/sklearn/neighbors/_classification.py:237: FutureWarning: Unlike other reduction functions (e.g. `skew`, `kurtosis`), the default behavior of `mode` typically preserves the axis it acts along. In SciPy 1.11.0, this behavior will change: the default value of `keepdims` will become False, the `axis` over which the statistic is taken will be eliminated, and the value None will no longer be accepted. Set `keepdims` to True or False to avoid this warning.\n",
      "  mode, _ = stats.mode(_y[neigh_ind, k], axis=1)\n",
      "/Users/laylabouzoubaa/opt/anaconda3/lib/python3.9/site-packages/sklearn/metrics/_classification.py:1327: UndefinedMetricWarning: Precision and F-score are ill-defined and being set to 0.0 in labels with no predicted samples. Use `zero_division` parameter to control this behavior.\n",
      "  _warn_prf(average, modifier, msg_start, len(result))\n",
      "/Users/laylabouzoubaa/opt/anaconda3/lib/python3.9/site-packages/sklearn/metrics/_classification.py:1327: UndefinedMetricWarning: Recall and F-score are ill-defined and being set to 0.0 in labels with no true samples. Use `zero_division` parameter to control this behavior.\n",
      "  _warn_prf(average, modifier, msg_start, len(result))\n",
      "/Users/laylabouzoubaa/opt/anaconda3/lib/python3.9/site-packages/sklearn/metrics/_classification.py:1327: UndefinedMetricWarning: Precision and F-score are ill-defined and being set to 0.0 in samples with no predicted labels. Use `zero_division` parameter to control this behavior.\n",
      "  _warn_prf(average, modifier, msg_start, len(result))\n",
      "/Users/laylabouzoubaa/opt/anaconda3/lib/python3.9/site-packages/sklearn/metrics/_classification.py:1327: UndefinedMetricWarning: Recall and F-score are ill-defined and being set to 0.0 in samples with no true labels. Use `zero_division` parameter to control this behavior.\n",
      "  _warn_prf(average, modifier, msg_start, len(result))\n"
     ]
    }
   ],
   "source": [
    "\n",
    "\n",
    "# Split the data into features (text) and labels (topics)\n",
    "X = obj['Text']\n",
    "y = obj.drop(columns=['Text'])\n",
    "\n",
    "# Split the data into training and testing sets\n",
    "X_train, X_test, y_train, y_test = train_test_split(X, y, test_size=0.2, random_state=42)\n",
    "\n",
    "# Vectorize the text data (you can choose between CountVectorizer or TfidfVectorizer)\n",
    "vectorizer = TfidfVectorizer(stop_words='english', ngram_range=(1,3))\n",
    "X_train_vec = vectorizer.fit_transform(X_train)\n",
    "X_test_vec = vectorizer.transform(X_test)\n",
    "\n",
    "# Build and train the Random Forest Classifier\n",
    "rf_classifier = MultiOutputClassifier(RandomForestClassifier(n_estimators=10, random_state=42))\n",
    "rf_classifier.fit(X_train_vec, y_train)\n",
    "rf_predictions = rf_classifier.predict(X_test_vec)\n",
    "\n",
    "# Build and train the K-Nearest Neighbors Classifier\n",
    "knn_classifier = MultiOutputClassifier(KNeighborsClassifier(n_neighbors=5))\n",
    "knn_classifier.fit(X_train_vec, y_train)\n",
    "knn_predictions = knn_classifier.predict(X_test_vec)\n",
    "\n",
    "# Evaluate the models\n",
    "print(\"Random Forest Classifier Metrics:\")\n",
    "print(classification_report(y_test, rf_predictions))"
   ]
  },
  {
   "cell_type": "code",
   "execution_count": 7,
   "metadata": {},
   "outputs": [
    {
     "name": "stdout",
     "output_type": "stream",
     "text": [
      "\n",
      "K-Nearest Neighbors Classifier Metrics:\n",
      "              precision    recall  f1-score   support\n",
      "\n",
      "           0       0.00      0.00      0.00         6\n",
      "           1       0.00      0.00      0.00         1\n",
      "           2       0.80      0.31      0.44        26\n",
      "           3       0.00      0.00      0.00         0\n",
      "           4       0.50      0.31      0.38        13\n",
      "           5       0.33      0.08      0.13        12\n",
      "           6       0.00      0.00      0.00         3\n",
      "           7       0.00      0.00      0.00         8\n",
      "           8       0.00      0.00      0.00         8\n",
      "           9       0.00      0.00      0.00         5\n",
      "          10       0.00      0.00      0.00         8\n",
      "          11       0.00      0.00      0.00         6\n",
      "          12       0.00      0.00      0.00         5\n",
      "\n",
      "   micro avg       0.46      0.13      0.20       101\n",
      "   macro avg       0.13      0.05      0.07       101\n",
      "weighted avg       0.31      0.13      0.18       101\n",
      " samples avg       0.18      0.15      0.15       101\n",
      "\n"
     ]
    },
    {
     "name": "stderr",
     "output_type": "stream",
     "text": [
      "/Users/laylabouzoubaa/opt/anaconda3/lib/python3.9/site-packages/sklearn/metrics/_classification.py:1327: UndefinedMetricWarning: Precision and F-score are ill-defined and being set to 0.0 in labels with no predicted samples. Use `zero_division` parameter to control this behavior.\n",
      "  _warn_prf(average, modifier, msg_start, len(result))\n",
      "/Users/laylabouzoubaa/opt/anaconda3/lib/python3.9/site-packages/sklearn/metrics/_classification.py:1327: UndefinedMetricWarning: Recall and F-score are ill-defined and being set to 0.0 in labels with no true samples. Use `zero_division` parameter to control this behavior.\n",
      "  _warn_prf(average, modifier, msg_start, len(result))\n",
      "/Users/laylabouzoubaa/opt/anaconda3/lib/python3.9/site-packages/sklearn/metrics/_classification.py:1327: UndefinedMetricWarning: Precision and F-score are ill-defined and being set to 0.0 in samples with no predicted labels. Use `zero_division` parameter to control this behavior.\n",
      "  _warn_prf(average, modifier, msg_start, len(result))\n",
      "/Users/laylabouzoubaa/opt/anaconda3/lib/python3.9/site-packages/sklearn/metrics/_classification.py:1327: UndefinedMetricWarning: Recall and F-score are ill-defined and being set to 0.0 in samples with no true labels. Use `zero_division` parameter to control this behavior.\n",
      "  _warn_prf(average, modifier, msg_start, len(result))\n"
     ]
    }
   ],
   "source": [
    "print(\"\\nK-Nearest Neighbors Classifier Metrics:\")\n",
    "print(classification_report(y_test, knn_predictions))"
   ]
  },
  {
   "cell_type": "code",
   "execution_count": 9,
   "metadata": {},
   "outputs": [],
   "source": [
    "# get all labels\n",
    "labels = list(y.columns)\n",
    "\n",
    "y_test2 = y_test.apply(lambda x: ','.join(x.index[x==1]), axis=1)"
   ]
  },
  {
   "cell_type": "code",
   "execution_count": 10,
   "metadata": {},
   "outputs": [],
   "source": [
    "# export test data for LLM evaluation\n",
    "test_data = pd.DataFrame({'text': X_test, 'objective': y_test2})\n",
    "test_data.to_csv('../data/objective_test_data2.csv', index=False)\n",
    "# test_data = pd.DataFrame({'text': X_test})\n",
    "# test_data.to_csv('../data/objective_test_data2.csv', index=False)\n"
   ]
  },
  {
   "cell_type": "code",
   "execution_count": 17,
   "metadata": {},
   "outputs": [
    {
     "data": {
      "text/plain": [
       "both          67\n",
       "left_only     16\n",
       "right_only     0\n",
       "Name: _merge, dtype: int64"
      ]
     },
     "execution_count": 17,
     "metadata": {},
     "output_type": "execute_result"
    }
   ],
   "source": [
    "# check if test set 2 is a subset of test set 1\n",
    "\n",
    "ct1 = pd.read_csv('../data/connection_test_data.csv')\n",
    "ct2 = pd.read_csv('../data/connection_test_data2.csv')\n",
    "\n",
    "compare = ct1.merge(ct2, on=['text', 'connection'], how='left', indicator=True)\n",
    "\n",
    "compare['_merge'].value_counts()\n"
   ]
  },
  {
   "cell_type": "code",
   "execution_count": 18,
   "metadata": {},
   "outputs": [
    {
     "data": {
      "text/plain": [
       "both          67\n",
       "left_only     14\n",
       "right_only     0\n",
       "Name: _merge, dtype: int64"
      ]
     },
     "execution_count": 18,
     "metadata": {},
     "output_type": "execute_result"
    }
   ],
   "source": [
    "# subject\n",
    "st1 = pd.read_csv('../data/subject_test_data.csv')\n",
    "st2 = pd.read_csv('../data/subject_test_data2.csv')\n",
    "\n",
    "compare = st1.merge(st2, on=['text', 'subject'], how='left', indicator=True)\n",
    "\n",
    "compare['_merge'].value_counts()"
   ]
  },
  {
   "cell_type": "markdown",
   "metadata": {},
   "source": [
    "---\n",
    "\n",
    "## LLM evaluations"
   ]
  },
  {
   "cell_type": "code",
   "execution_count": 28,
   "metadata": {},
   "outputs": [],
   "source": [
    "connection_test = pd.read_csv('../data/connection_test_data_LLM.csv')\n",
    "subject_test = pd.read_csv('../data/subject_test_data_LLM.csv')"
   ]
  },
  {
   "cell_type": "code",
   "execution_count": 29,
   "metadata": {},
   "outputs": [],
   "source": [
    "# subset the data to the 65 in ct2\n",
    "connection_test = connection_test[connection_test['text'].isin(ct2['text'])]"
   ]
  },
  {
   "cell_type": "code",
   "execution_count": 30,
   "metadata": {},
   "outputs": [],
   "source": [
    "# make labels consistent\n",
    "# if label contains 'inquisition', change to 'inquisition' \n",
    "# connection_test.columns\n",
    "cols = ['Q1_1_instruct_gpt3',\n",
    "       'Q1_1_instruct_gpt4', 'Q1_1_example_gpt3', 'Q1_1_example_gpt4']\n",
    "\n",
    "# if label contains 'inquisition', change to 'inquisition'\n",
    "for c in cols:\n",
    "    connection_test[c] = connection_test[c].apply(lambda x: 'Inquisition' if 'inquisition' in x else 'Disclosure')"
   ]
  },
  {
   "cell_type": "code",
   "execution_count": 31,
   "metadata": {},
   "outputs": [],
   "source": [
    "connection_test.to_csv('../data/connection_test_data_LLM2.csv', index=False)\n"
   ]
  },
  {
   "cell_type": "code",
   "execution_count": 34,
   "metadata": {},
   "outputs": [
    {
     "name": "stdout",
     "output_type": "stream",
     "text": [
      "              precision    recall  f1-score   support\n",
      "\n",
      "  Disclosure       0.59      0.87      0.70        31\n",
      " Inquisition       0.79      0.44      0.57        34\n",
      "\n",
      "    accuracy                           0.65        65\n",
      "   macro avg       0.69      0.66      0.63        65\n",
      "weighted avg       0.69      0.65      0.63        65\n",
      "\n"
     ]
    }
   ],
   "source": [
    "\n",
    "# connection is ground truth\n",
    "# for Q1_1_instruct_gpt3\n",
    "connection_test['Q1_1_instruct_gpt3'].value_counts()\n",
    "# get confusion matrix\n",
    "from sklearn.metrics import confusion_matrix\n",
    "confusion_matrix(connection_test['connection'], connection_test['Q1_1_instruct_gpt3'])\n",
    "# get classification report\n",
    "from sklearn.metrics import classification_report\n",
    "print(classification_report(connection_test['connection'], connection_test['Q1_1_instruct_gpt3']))\n",
    "\n"
   ]
  },
  {
   "cell_type": "code",
   "execution_count": 35,
   "metadata": {},
   "outputs": [
    {
     "name": "stdout",
     "output_type": "stream",
     "text": [
      "              precision    recall  f1-score   support\n",
      "\n",
      "  Disclosure       0.80      0.77      0.79        31\n",
      " Inquisition       0.80      0.82      0.81        34\n",
      "\n",
      "    accuracy                           0.80        65\n",
      "   macro avg       0.80      0.80      0.80        65\n",
      "weighted avg       0.80      0.80      0.80        65\n",
      "\n"
     ]
    }
   ],
   "source": [
    "# for Q1_1_instruct_gpt4\n",
    "confusion_matrix(connection_test['connection'], connection_test['Q1_1_instruct_gpt4'])\n",
    "print(classification_report(connection_test['connection'], connection_test['Q1_1_instruct_gpt4']))"
   ]
  },
  {
   "cell_type": "code",
   "execution_count": 36,
   "metadata": {},
   "outputs": [
    {
     "name": "stdout",
     "output_type": "stream",
     "text": [
      "              precision    recall  f1-score   support\n",
      "\n",
      "  Disclosure       0.57      0.87      0.69        31\n",
      " Inquisition       0.78      0.41      0.54        34\n",
      "\n",
      "    accuracy                           0.63        65\n",
      "   macro avg       0.68      0.64      0.62        65\n",
      "weighted avg       0.68      0.63      0.61        65\n",
      "\n"
     ]
    }
   ],
   "source": [
    "print(classification_report(connection_test['connection'], connection_test['Q1_1_example_gpt3']))"
   ]
  },
  {
   "cell_type": "code",
   "execution_count": 37,
   "metadata": {},
   "outputs": [
    {
     "name": "stdout",
     "output_type": "stream",
     "text": [
      "              precision    recall  f1-score   support\n",
      "\n",
      "  Disclosure       0.81      0.84      0.83        31\n",
      " Inquisition       0.85      0.82      0.84        34\n",
      "\n",
      "    accuracy                           0.83        65\n",
      "   macro avg       0.83      0.83      0.83        65\n",
      "weighted avg       0.83      0.83      0.83        65\n",
      "\n"
     ]
    }
   ],
   "source": [
    "print(classification_report(connection_test['connection'], connection_test['Q1_1_example_gpt4']))"
   ]
  },
  {
   "cell_type": "markdown",
   "metadata": {},
   "source": [
    "--\n",
    "\n",
    "#### subject llm"
   ]
  },
  {
   "cell_type": "code",
   "execution_count": 38,
   "metadata": {},
   "outputs": [],
   "source": [
    "subject_test = pd.read_csv('../data/subject_test_data_LLM.csv')\n",
    "# subset the data to the 65 in st2\n",
    "subject_test = subject_test[subject_test['text'].isin(st2['text'])]"
   ]
  },
  {
   "cell_type": "code",
   "execution_count": 41,
   "metadata": {},
   "outputs": [],
   "source": [
    "# make labels consistent\n",
    "# if label contains 'dependency', change to 'dependency'\n",
    "cols = ['Q1_2_instruct_gpt3',  \n",
    "         'Q1_2_instruct_gpt4', 'Q1_2_example_gpt3', 'Q1_2_example_gpt4']\n",
    "\n",
    "# fill NaNs with 'N/A'\n",
    "subject_test = subject_test.fillna('N/A')\n",
    "\n",
    "for c in cols:\n",
    "    subject_test[c] = subject_test[c].apply(lambda x: 'Dependency' if 'dependency' in x else x)\n",
    "    subject_test[c] = subject_test[c].apply(lambda x: 'Recovery' if 'recovery' in x else x)\n",
    "    subject_test[c] = subject_test[c].apply(lambda x: 'Other' if 'other' in x else x)\n",
    "    subject_test[c] = subject_test[c].apply(lambda x: 'N/A' if 'n/a' in x else x)\n",
    "\n",
    "# encode\n",
    "from sklearn.preprocessing import LabelEncoder\n",
    "le = LabelEncoder()\n",
    "subject_test['Q1_2_instruct_gpt3'] = le.fit_transform(subject_test['Q1_2_instruct_gpt3'])\n",
    "subject_test['Q1_2_instruct_gpt4'] = le.fit_transform(subject_test['Q1_2_instruct_gpt4'])\n",
    "subject_test['Q1_2_example_gpt3'] = le.fit_transform(subject_test['Q1_2_example_gpt3'])\n",
    "subject_test['Q1_2_example_gpt4'] = le.fit_transform(subject_test['Q1_2_example_gpt4'])\n"
   ]
  },
  {
   "cell_type": "code",
   "execution_count": 45,
   "metadata": {},
   "outputs": [
    {
     "name": "stdout",
     "output_type": "stream",
     "text": [
      "Q1_2_instruct_gpt3 \n",
      "               precision    recall  f1-score   support\n",
      "\n",
      "           0       0.27      0.12      0.17        24\n",
      "           1       0.11      1.00      0.20         6\n",
      "           2       1.00      0.05      0.09        22\n",
      "           3       0.00      0.00      0.00        15\n",
      "\n",
      "    accuracy                           0.15        67\n",
      "   macro avg       0.35      0.29      0.11        67\n",
      "weighted avg       0.44      0.15      0.11        67\n",
      "\n",
      "Q1_2_instruct_gpt4 \n",
      "               precision    recall  f1-score   support\n",
      "\n",
      "           0       0.52      0.71      0.60        24\n",
      "           1       1.00      0.17      0.29         6\n",
      "           2       0.50      0.59      0.54        22\n",
      "           3       0.71      0.33      0.45        15\n",
      "\n",
      "    accuracy                           0.54        67\n",
      "   macro avg       0.68      0.45      0.47        67\n",
      "weighted avg       0.60      0.54      0.52        67\n",
      "\n",
      "Q1_2_example_gpt3 \n",
      "               precision    recall  f1-score   support\n",
      "\n",
      "           0       0.56      0.75      0.64        24\n",
      "           1       0.33      0.33      0.33         6\n",
      "           2       0.56      0.64      0.60        22\n",
      "           3       0.75      0.20      0.32        15\n",
      "\n",
      "    accuracy                           0.55        67\n",
      "   macro avg       0.55      0.48      0.47        67\n",
      "weighted avg       0.58      0.55      0.53        67\n",
      "\n",
      "Q1_2_example_gpt4 \n",
      "               precision    recall  f1-score   support\n",
      "\n",
      "           0       0.58      0.79      0.67        24\n",
      "           1       1.00      0.17      0.29         6\n",
      "           2       0.52      0.50      0.51        22\n",
      "           3       0.58      0.47      0.52        15\n",
      "\n",
      "    accuracy                           0.57        67\n",
      "   macro avg       0.67      0.48      0.50        67\n",
      "weighted avg       0.60      0.57      0.55        67\n",
      "\n"
     ]
    },
    {
     "name": "stderr",
     "output_type": "stream",
     "text": [
      "/Users/laylabouzoubaa/opt/anaconda3/lib/python3.9/site-packages/sklearn/metrics/_classification.py:1327: UndefinedMetricWarning: Precision and F-score are ill-defined and being set to 0.0 in labels with no predicted samples. Use `zero_division` parameter to control this behavior.\n",
      "  _warn_prf(average, modifier, msg_start, len(result))\n",
      "/Users/laylabouzoubaa/opt/anaconda3/lib/python3.9/site-packages/sklearn/metrics/_classification.py:1327: UndefinedMetricWarning: Precision and F-score are ill-defined and being set to 0.0 in labels with no predicted samples. Use `zero_division` parameter to control this behavior.\n",
      "  _warn_prf(average, modifier, msg_start, len(result))\n",
      "/Users/laylabouzoubaa/opt/anaconda3/lib/python3.9/site-packages/sklearn/metrics/_classification.py:1327: UndefinedMetricWarning: Precision and F-score are ill-defined and being set to 0.0 in labels with no predicted samples. Use `zero_division` parameter to control this behavior.\n",
      "  _warn_prf(average, modifier, msg_start, len(result))\n"
     ]
    }
   ],
   "source": [
    "# get clssification report\n",
    "print(\"Q1_2_instruct_gpt3 \\n\",classification_report(subject_test['subject'], subject_test['Q1_2_instruct_gpt3']))\n",
    "print(\"Q1_2_instruct_gpt4 \\n\", classification_report(subject_test['subject'], subject_test['Q1_2_instruct_gpt4']))\n",
    "print(\"Q1_2_example_gpt3 \\n\", classification_report(subject_test['subject'], subject_test['Q1_2_example_gpt3']))\n",
    "print(\"Q1_2_example_gpt4 \\n\", classification_report(subject_test['subject'], subject_test['Q1_2_example_gpt4']))\n"
   ]
  },
  {
   "cell_type": "markdown",
   "metadata": {},
   "source": [
    "--\n",
    "\n",
    "#### Objective"
   ]
  },
  {
   "cell_type": "code",
   "execution_count": 21,
   "metadata": {},
   "outputs": [],
   "source": [
    "# objective\n",
    "objective_test = pd.read_csv('../data/objective_test_data_LLM.csv')\n",
    "# join with objective_test2\n",
    "objective_test2 = pd.read_csv('../data/objective_test_data2.csv')\n",
    "\n",
    "objective_test = objective_test.merge(objective_test2, on='text', how='left')"
   ]
  },
  {
   "cell_type": "code",
   "execution_count": 22,
   "metadata": {},
   "outputs": [],
   "source": [
    "# make labels consistent\n",
    "objective_test = objective_test.fillna('N/A')\n",
    "cols = ['Q1_3_instruct_gpt3',  \n",
    "         'Q1_3_instruct_gpt4', 'Q1_3_example_gpt3', 'Q1_3_example_gpt4']\n",
    "\n",
    "objectives = ['Quality', 'Legality', 'Effects', 'Methods', 'Combination of Substances', 'Mental Health',\n",
    "          'N/A', 'Other', 'Overdose', 'Nurturant Support & Morality', 'Withdrawal', 'Safety', 'Relapse']\n",
    "# mapping = 1: Quality\n",
    "#     2: Legality\n",
    "#     3- Safety\n",
    "#     4- Mental health\n",
    "#     5- Combination\n",
    "#     6- Method\n",
    "#     7- Effects\n",
    "#     8- Nurturant Support & Morality\n",
    "#     9- Overdose\n",
    "#     10- Withdrawal\n",
    "#     11- Relapse\n",
    "#     12- Other\n",
    "#     13- N/A\n",
    "\n",
    "for c in cols:\n",
    "    for row in range(len(objective_test)):\n",
    "        # if not float\n",
    "        if type(objective_test[c][row]) != float:\n",
    "            objective_test[c] = objective_test[c].apply(lambda x: 'Quality' if 'quality' in x else x)\n",
    "            objective_test[c] = objective_test[c].apply(lambda x: 'Legality' if 'legality' in x else x)\n",
    "            objective_test[c] = objective_test[c].apply(lambda x: 'Effects' if 'effects' in x else x)\n",
    "            objective_test[c] = objective_test[c].apply(lambda x: 'Effects' if 'effect' in x else x)\n",
    "            objective_test[c] = objective_test[c].apply(lambda x: 'Methods' if 'methods' in x else x)\n",
    "            objective_test[c] = objective_test[c].apply(lambda x: 'Methods' if 'method' in x else x)\n",
    "            objective_test[c] = objective_test[c].apply(lambda x: 'Combination of Substances' if 'combination of substances' in x else x)\n",
    "            objective_test[c] = objective_test[c].apply(lambda x: 'Combination of Substances' if 'combination' in x else x)\n",
    "            objective_test[c] = objective_test[c].apply(lambda x: 'Mental Health' if 'mental health' in x else x)\n",
    "            objective_test[c] = objective_test[c].apply(lambda x: 'N/A' if 'n/a' in x else x)\n",
    "            objective_test[c] = objective_test[c].apply(lambda x: 'Other' if 'other' in x else x)\n",
    "            objective_test[c] = objective_test[c].apply(lambda x: 'Overdose' if 'overdose' in x else x)\n",
    "            objective_test[c] = objective_test[c].apply(lambda x: 'Nurturant Support & Morality' if 'nurturant support & morality' in x else x)\n",
    "            objective_test[c] = objective_test[c].apply(lambda x: 'Withdrawal' if 'withdrawal' in x else x)\n",
    "            objective_test[c] = objective_test[c].apply(lambda x: 'Safety' if 'safety' in x else x)\n",
    "            objective_test[c] = objective_test[c].apply(lambda x: 'Relapse' if 'relapse' in x else x)\n",
    "        else:\n",
    "            objective_test[c] = objective_test[c].apply(lambda x: 'Quality' if 1 in x else x)\n",
    "            objective_test[c] = objective_test[c].apply(lambda x: 'Legality' if 2 in x else x)\n",
    "            objective_test[c] = objective_test[c].apply(lambda x: 'Safety' if 3 in x else x)\n",
    "            objective_test[c] = objective_test[c].apply(lambda x: 'Mental Health' if 4 in x else x)\n",
    "            objective_test[c] = objective_test[c].apply(lambda x: 'Combination of Substances' if 5 in x else x)\n",
    "            objective_test[c] = objective_test[c].apply(lambda x: 'Methods' if 6 in x else x)\n",
    "            objective_test[c] = objective_test[c].apply(lambda x: 'Effects' if 7 in x else x)\n",
    "            objective_test[c] = objective_test[c].apply(lambda x: 'Nurturant Support & Morality' if 8 in x else x)\n",
    "            objective_test[c] = objective_test[c].apply(lambda x: 'Overdose' if 9 in x else x)\n",
    "            objective_test[c] = objective_test[c].apply(lambda x: 'Withdrawal' if 10 in x else x)\n",
    "            objective_test[c] = objective_test[c].apply(lambda x: 'Relapse' if 11 in x else x)\n",
    "            objective_test[c] = objective_test[c].apply(lambda x: 'Other' if 12 in x else x)\n",
    "            objective_test[c] = objective_test[c].apply(lambda x: 'N/A' if 13 in x else x)\n",
    "\n"
   ]
  },
  {
   "cell_type": "code",
   "execution_count": 24,
   "metadata": {},
   "outputs": [
    {
     "data": {
      "text/plain": [
       "'1, 2, 3, 4, 7, 8, 9, 10, 11'"
      ]
     },
     "execution_count": 24,
     "metadata": {},
     "output_type": "execute_result"
    }
   ],
   "source": [
    "# get index 8\n",
    "objective_test['Q1_3_instruct_gpt4'][8]"
   ]
  },
  {
   "cell_type": "code",
   "execution_count": 26,
   "metadata": {},
   "outputs": [
    {
     "name": "stderr",
     "output_type": "stream",
     "text": [
      "/var/folders/jj/bt0ykz9n5_16z2gvbybl0tbc0000gn/T/ipykernel_74426/2875435167.py:3: SettingWithCopyWarning: \n",
      "A value is trying to be set on a copy of a slice from a DataFrame\n",
      "\n",
      "See the caveats in the documentation: https://pandas.pydata.org/pandas-docs/stable/user_guide/indexing.html#returning-a-view-versus-a-copy\n",
      "  objective_test['Q1_3_instruct_gpt4'][objective_test['Q1_3_instruct_gpt4'] == '1, 2, 3, 4, 7, 8, 9, 10, 11'] = 'Quality,Legality,Safety,Mental Health,Effects,Nurturant Support & Morality,Overdose,Withdrawal,Relapse'\n"
     ]
    }
   ],
   "source": [
    "# one of the cells is a string of integers\n",
    "# convert manually\n",
    "objective_test['Q1_3_instruct_gpt4'][objective_test['Q1_3_instruct_gpt4'] == '1, 2, 3, 4, 7, 8, 9, 10, 11'] = 'Quality,Legality,Safety,Mental Health,Effects,Nurturant Support & Morality,Overdose,Withdrawal,Relapse'"
   ]
  },
  {
   "cell_type": "code",
   "execution_count": 29,
   "metadata": {},
   "outputs": [],
   "source": [
    "# order the labels\n",
    "objective_test['Q1_3_instruct_gpt3'] = objective_test['Q1_3_instruct_gpt3'].apply(lambda x: ','.join(sorted(x.split(','))))\n",
    "objective_test['Q1_3_instruct_gpt4'] = objective_test['Q1_3_instruct_gpt4'].apply(lambda x: ','.join(sorted(x.split(','))))\n",
    "objective_test['Q1_3_example_gpt3'] = objective_test['Q1_3_example_gpt3'].apply(lambda x: ','.join(sorted(x.split(','))))\n",
    "objective_test['Q1_3_example_gpt4'] = objective_test['Q1_3_example_gpt4'].apply(lambda x: ','.join(sorted(x.split(','))))\n",
    "objective_test['objective'] = objective_test['objective'].apply(lambda x: ','.join(sorted(x.split(','))))"
   ]
  },
  {
   "cell_type": "code",
   "execution_count": 32,
   "metadata": {},
   "outputs": [
    {
     "name": "stdout",
     "output_type": "stream",
     "text": [
      "Q1_3_instruct_gpt3 \n",
      "                                                                      precision    recall  f1-score   support\n",
      "\n",
      "                                          Combination of Substances       0.00      0.00      0.00         7\n",
      "                                  Combination of Substances,Effects       0.00      0.00      0.00         2\n",
      "           Combination of Substances,Effects,Mental Health,Overdose       0.00      0.00      0.00         1\n",
      "Combination of Substances,Effects,Mental Health,Overdose,Withdrawal       0.00      0.00      0.00         2\n",
      "                          Combination of Substances,Effects,Relapse       0.00      0.00      0.00         1\n",
      "    Combination of Substances,Nurturant Support & Morality,Overdose       0.00      0.00      0.00         1\n",
      "                                                            Effects       0.00      0.00      0.00        14\n",
      "                           Effects,Legality,Overdose,Quality,Safety       0.00      0.00      0.00         1\n",
      "Effects,Mental Health,Nurturant Support & Morality,Other,Withdrawal       0.00      0.00      0.00         1\n",
      "                                                      Effects,Other       0.00      0.00      0.00         1\n",
      "                                                    Effects,Quality       0.00      0.00      0.00         3\n",
      "                                                    Effects,Relapse       0.00      0.00      0.00         1\n",
      "                                         Effects,Relapse,Withdrawal       0.00      0.00      0.00         1\n",
      "                                                      Mental Health       0.11      0.20      0.14         5\n",
      "                         Mental Health,Nurturant Support & Morality       0.00      0.00      0.00         1\n",
      "                                             Mental Health,Overdose       0.00      0.00      0.00         2\n",
      "                                  Mental Health,Overdose,Withdrawal       0.00      0.00      0.00         1\n",
      "                                                                N/A       0.00      0.00      0.00         9\n",
      "             Nurturant Support & Morality,Relapse,Safety,Withdrawal       0.00      0.00      0.00         1\n",
      "                    Nurturant Support & Morality,Relapse,Withdrawal       0.00      0.00      0.00         1\n",
      "                                                              Other       0.00      0.00      0.00         4\n",
      "                                                     Other,Overdose       0.00      0.00      0.00         1\n",
      "                                                   Other,Withdrawal       0.00      0.00      0.00         1\n",
      "                                                            Quality       0.00      0.00      0.00         0\n",
      "                                                     Quality,Safety       0.00      0.00      0.00         2\n",
      "                                                             Safety       0.00      0.00      0.00         2\n",
      "                                                         Withdrawal       0.00      0.00      0.00         1\n",
      "\n",
      "                                                           accuracy                           0.01        67\n",
      "                                                          macro avg       0.00      0.01      0.01        67\n",
      "                                                       weighted avg       0.01      0.01      0.01        67\n",
      "\n",
      "Q1_3_instruct_gpt4 \n",
      "                                                                                                         precision    recall  f1-score   support\n",
      "\n",
      "                                                                             Combination of Substances       0.00      0.00      0.00         7\n",
      "                                                                     Combination of Substances,Effects       0.00      0.00      0.00         2\n",
      "                                              Combination of Substances,Effects,Mental Health,Overdose       0.00      0.00      0.00         1\n",
      "                                   Combination of Substances,Effects,Mental Health,Overdose,Withdrawal       0.00      0.00      0.00         2\n",
      "                                                             Combination of Substances,Effects,Relapse       0.00      0.00      0.00         1\n",
      "                                       Combination of Substances,Nurturant Support & Morality,Overdose       0.00      0.00      0.00         1\n",
      "                                                                                               Effects       0.67      0.43      0.52        14\n",
      "Effects,Legality,Mental Health,Nurturant Support & Morality,Overdose,Quality,Relapse,Safety,Withdrawal       0.00      0.00      0.00         0\n",
      "                                                              Effects,Legality,Overdose,Quality,Safety       0.00      0.00      0.00         1\n",
      "                                   Effects,Mental Health,Nurturant Support & Morality,Other,Withdrawal       0.00      0.00      0.00         1\n",
      "                                                                                         Effects,Other       0.00      0.00      0.00         1\n",
      "                                                                                       Effects,Quality       0.00      0.00      0.00         3\n",
      "                                                                                       Effects,Relapse       0.00      0.00      0.00         1\n",
      "                                                                            Effects,Relapse,Withdrawal       0.00      0.00      0.00         1\n",
      "                                                                                              Legality       0.00      0.00      0.00         0\n",
      "                                                                                         Mental Health       0.38      0.60      0.46         5\n",
      "                                                            Mental Health,Nurturant Support & Morality       0.00      0.00      0.00         1\n",
      "                                                                                Mental Health,Overdose       0.00      0.00      0.00         2\n",
      "                                                                     Mental Health,Overdose,Withdrawal       0.00      0.00      0.00         1\n",
      "                                                                                               Methods       0.00      0.00      0.00         0\n",
      "                                                                                                   N/A       0.00      0.00      0.00         9\n",
      "                                                                          Nurturant Support & Morality       0.00      0.00      0.00         0\n",
      "                                                Nurturant Support & Morality,Relapse,Safety,Withdrawal       0.00      0.00      0.00         1\n",
      "                                                       Nurturant Support & Morality,Relapse,Withdrawal       0.00      0.00      0.00         1\n",
      "                                                                                                 Other       0.00      0.00      0.00         4\n",
      "                                                                                        Other,Overdose       0.00      0.00      0.00         1\n",
      "                                                                                      Other,Withdrawal       0.00      0.00      0.00         1\n",
      "                                                                                               Quality       0.00      0.00      0.00         0\n",
      "                                                                                        Quality,Safety       0.00      0.00      0.00         2\n",
      "                                                                                                Safety       0.00      0.00      0.00         2\n",
      "                                                                                            Withdrawal       0.00      0.00      0.00         1\n",
      "\n",
      "                                                                                              accuracy                           0.13        67\n",
      "                                                                                             macro avg       0.03      0.03      0.03        67\n",
      "                                                                                          weighted avg       0.17      0.13      0.14        67\n",
      "\n",
      "Q1_3_example_gpt3 \n",
      "                                                                      precision    recall  f1-score   support\n",
      "\n",
      "                                          Combination of Substances       0.45      0.71      0.56         7\n",
      "                                  Combination of Substances,Effects       0.00      0.00      0.00         2\n",
      "           Combination of Substances,Effects,Mental Health,Overdose       0.00      0.00      0.00         1\n",
      "Combination of Substances,Effects,Mental Health,Overdose,Withdrawal       0.00      0.00      0.00         2\n",
      "                          Combination of Substances,Effects,Relapse       0.00      0.00      0.00         1\n",
      "    Combination of Substances,Nurturant Support & Morality,Overdose       0.00      0.00      0.00         1\n",
      "                                                            Effects       0.56      0.36      0.43        14\n",
      "                           Effects,Legality,Overdose,Quality,Safety       0.00      0.00      0.00         1\n",
      "Effects,Mental Health,Nurturant Support & Morality,Other,Withdrawal       0.00      0.00      0.00         1\n",
      "                                                      Effects,Other       0.00      0.00      0.00         1\n",
      "                                                    Effects,Quality       0.00      0.00      0.00         3\n",
      "                                                    Effects,Relapse       0.00      0.00      0.00         1\n",
      "                                         Effects,Relapse,Withdrawal       0.00      0.00      0.00         1\n",
      "                                                           Legality       0.00      0.00      0.00         0\n",
      "                                                      Mental Health       0.33      0.40      0.36         5\n",
      "                         Mental Health,Nurturant Support & Morality       0.00      0.00      0.00         1\n",
      "                                             Mental Health,Overdose       0.00      0.00      0.00         2\n",
      "                                  Mental Health,Overdose,Withdrawal       0.00      0.00      0.00         1\n",
      "                                                            Methods       0.00      0.00      0.00         0\n",
      "                                                                N/A       0.00      0.00      0.00         9\n",
      "                                       Nurturant Support & Morality       0.00      0.00      0.00         0\n",
      "             Nurturant Support & Morality,Relapse,Safety,Withdrawal       0.00      0.00      0.00         1\n",
      "                    Nurturant Support & Morality,Relapse,Withdrawal       0.00      0.00      0.00         1\n",
      "                                                              Other       0.00      0.00      0.00         4\n",
      "                                                     Other,Overdose       0.00      0.00      0.00         1\n",
      "                                                   Other,Withdrawal       0.00      0.00      0.00         1\n",
      "                                                           Overdose       0.00      0.00      0.00         0\n",
      "                                                            Quality       0.00      0.00      0.00         0\n",
      "                                                     Quality,Safety       0.00      0.00      0.00         2\n",
      "                                                             Safety       0.00      0.00      0.00         2\n",
      "                                                         Withdrawal       0.12      1.00      0.22         1\n",
      "\n",
      "                                                           accuracy                           0.19        67\n",
      "                                                          macro avg       0.05      0.08      0.05        67\n",
      "                                                       weighted avg       0.19      0.19      0.18        67\n",
      "\n",
      "Q1_3_example_gpt4 \n",
      "                                                                      precision    recall  f1-score   support\n",
      "\n",
      "                                          Combination of Substances       0.00      0.00      0.00         7\n",
      "                                  Combination of Substances,Effects       0.00      0.00      0.00         2\n",
      "           Combination of Substances,Effects,Mental Health,Overdose       0.00      0.00      0.00         1\n",
      "Combination of Substances,Effects,Mental Health,Overdose,Withdrawal       0.00      0.00      0.00         2\n",
      "                          Combination of Substances,Effects,Relapse       0.00      0.00      0.00         1\n",
      "    Combination of Substances,Nurturant Support & Morality,Overdose       0.00      0.00      0.00         1\n",
      "                                                            Effects       0.36      0.29      0.32        14\n",
      "                           Effects,Legality,Overdose,Quality,Safety       0.00      0.00      0.00         1\n",
      "Effects,Mental Health,Nurturant Support & Morality,Other,Withdrawal       0.00      0.00      0.00         1\n",
      "                                                      Effects,Other       0.00      0.00      0.00         1\n",
      "                                                    Effects,Quality       0.00      0.00      0.00         3\n",
      "                                                    Effects,Relapse       0.00      0.00      0.00         1\n",
      "                                         Effects,Relapse,Withdrawal       0.00      0.00      0.00         1\n",
      "                                                           Legality       0.00      0.00      0.00         0\n",
      "                                                      Mental Health       0.33      0.60      0.43         5\n",
      "                         Mental Health,Nurturant Support & Morality       0.00      0.00      0.00         1\n",
      "                                             Mental Health,Overdose       0.00      0.00      0.00         2\n",
      "                                  Mental Health,Overdose,Withdrawal       0.00      0.00      0.00         1\n",
      "                                                            Methods       0.00      0.00      0.00         0\n",
      "                                                                N/A       0.00      0.00      0.00         9\n",
      "                                       Nurturant Support & Morality       0.00      0.00      0.00         0\n",
      "             Nurturant Support & Morality,Relapse,Safety,Withdrawal       0.00      0.00      0.00         1\n",
      "                    Nurturant Support & Morality,Relapse,Withdrawal       0.00      0.00      0.00         1\n",
      "                                                              Other       0.00      0.00      0.00         4\n",
      "                                                     Other,Overdose       0.00      0.00      0.00         1\n",
      "                                                   Other,Withdrawal       0.00      0.00      0.00         1\n",
      "                                                           Overdose       0.00      0.00      0.00         0\n",
      "                                                            Quality       0.00      0.00      0.00         0\n",
      "                                                     Quality,Safety       0.00      0.00      0.00         2\n",
      "                                                             Safety       0.00      0.00      0.00         2\n",
      "                                                         Withdrawal       0.00      0.00      0.00         1\n",
      "\n",
      "                                                           accuracy                           0.10        67\n",
      "                                                          macro avg       0.02      0.03      0.02        67\n",
      "                                                       weighted avg       0.10      0.10      0.10        67\n",
      "\n"
     ]
    },
    {
     "name": "stderr",
     "output_type": "stream",
     "text": [
      "/Users/laylabouzoubaa/opt/anaconda3/lib/python3.9/site-packages/sklearn/metrics/_classification.py:1327: UndefinedMetricWarning: Precision and F-score are ill-defined and being set to 0.0 in labels with no predicted samples. Use `zero_division` parameter to control this behavior.\n",
      "  _warn_prf(average, modifier, msg_start, len(result))\n",
      "/Users/laylabouzoubaa/opt/anaconda3/lib/python3.9/site-packages/sklearn/metrics/_classification.py:1327: UndefinedMetricWarning: Recall and F-score are ill-defined and being set to 0.0 in labels with no true samples. Use `zero_division` parameter to control this behavior.\n",
      "  _warn_prf(average, modifier, msg_start, len(result))\n",
      "/Users/laylabouzoubaa/opt/anaconda3/lib/python3.9/site-packages/sklearn/metrics/_classification.py:1327: UndefinedMetricWarning: Precision and F-score are ill-defined and being set to 0.0 in labels with no predicted samples. Use `zero_division` parameter to control this behavior.\n",
      "  _warn_prf(average, modifier, msg_start, len(result))\n",
      "/Users/laylabouzoubaa/opt/anaconda3/lib/python3.9/site-packages/sklearn/metrics/_classification.py:1327: UndefinedMetricWarning: Recall and F-score are ill-defined and being set to 0.0 in labels with no true samples. Use `zero_division` parameter to control this behavior.\n",
      "  _warn_prf(average, modifier, msg_start, len(result))\n",
      "/Users/laylabouzoubaa/opt/anaconda3/lib/python3.9/site-packages/sklearn/metrics/_classification.py:1327: UndefinedMetricWarning: Precision and F-score are ill-defined and being set to 0.0 in labels with no predicted samples. Use `zero_division` parameter to control this behavior.\n",
      "  _warn_prf(average, modifier, msg_start, len(result))\n",
      "/Users/laylabouzoubaa/opt/anaconda3/lib/python3.9/site-packages/sklearn/metrics/_classification.py:1327: UndefinedMetricWarning: Recall and F-score are ill-defined and being set to 0.0 in labels with no true samples. Use `zero_division` parameter to control this behavior.\n",
      "  _warn_prf(average, modifier, msg_start, len(result))\n",
      "/Users/laylabouzoubaa/opt/anaconda3/lib/python3.9/site-packages/sklearn/metrics/_classification.py:1327: UndefinedMetricWarning: Precision and F-score are ill-defined and being set to 0.0 in labels with no predicted samples. Use `zero_division` parameter to control this behavior.\n",
      "  _warn_prf(average, modifier, msg_start, len(result))\n",
      "/Users/laylabouzoubaa/opt/anaconda3/lib/python3.9/site-packages/sklearn/metrics/_classification.py:1327: UndefinedMetricWarning: Recall and F-score are ill-defined and being set to 0.0 in labels with no true samples. Use `zero_division` parameter to control this behavior.\n",
      "  _warn_prf(average, modifier, msg_start, len(result))\n",
      "/Users/laylabouzoubaa/opt/anaconda3/lib/python3.9/site-packages/sklearn/metrics/_classification.py:1327: UndefinedMetricWarning: Precision and F-score are ill-defined and being set to 0.0 in labels with no predicted samples. Use `zero_division` parameter to control this behavior.\n",
      "  _warn_prf(average, modifier, msg_start, len(result))\n",
      "/Users/laylabouzoubaa/opt/anaconda3/lib/python3.9/site-packages/sklearn/metrics/_classification.py:1327: UndefinedMetricWarning: Recall and F-score are ill-defined and being set to 0.0 in labels with no true samples. Use `zero_division` parameter to control this behavior.\n",
      "  _warn_prf(average, modifier, msg_start, len(result))\n",
      "/Users/laylabouzoubaa/opt/anaconda3/lib/python3.9/site-packages/sklearn/metrics/_classification.py:1327: UndefinedMetricWarning: Precision and F-score are ill-defined and being set to 0.0 in labels with no predicted samples. Use `zero_division` parameter to control this behavior.\n",
      "  _warn_prf(average, modifier, msg_start, len(result))\n",
      "/Users/laylabouzoubaa/opt/anaconda3/lib/python3.9/site-packages/sklearn/metrics/_classification.py:1327: UndefinedMetricWarning: Recall and F-score are ill-defined and being set to 0.0 in labels with no true samples. Use `zero_division` parameter to control this behavior.\n",
      "  _warn_prf(average, modifier, msg_start, len(result))\n",
      "/Users/laylabouzoubaa/opt/anaconda3/lib/python3.9/site-packages/sklearn/metrics/_classification.py:1327: UndefinedMetricWarning: Precision and F-score are ill-defined and being set to 0.0 in labels with no predicted samples. Use `zero_division` parameter to control this behavior.\n",
      "  _warn_prf(average, modifier, msg_start, len(result))\n",
      "/Users/laylabouzoubaa/opt/anaconda3/lib/python3.9/site-packages/sklearn/metrics/_classification.py:1327: UndefinedMetricWarning: Recall and F-score are ill-defined and being set to 0.0 in labels with no true samples. Use `zero_division` parameter to control this behavior.\n",
      "  _warn_prf(average, modifier, msg_start, len(result))\n",
      "/Users/laylabouzoubaa/opt/anaconda3/lib/python3.9/site-packages/sklearn/metrics/_classification.py:1327: UndefinedMetricWarning: Precision and F-score are ill-defined and being set to 0.0 in labels with no predicted samples. Use `zero_division` parameter to control this behavior.\n",
      "  _warn_prf(average, modifier, msg_start, len(result))\n",
      "/Users/laylabouzoubaa/opt/anaconda3/lib/python3.9/site-packages/sklearn/metrics/_classification.py:1327: UndefinedMetricWarning: Recall and F-score are ill-defined and being set to 0.0 in labels with no true samples. Use `zero_division` parameter to control this behavior.\n",
      "  _warn_prf(average, modifier, msg_start, len(result))\n",
      "/Users/laylabouzoubaa/opt/anaconda3/lib/python3.9/site-packages/sklearn/metrics/_classification.py:1327: UndefinedMetricWarning: Precision and F-score are ill-defined and being set to 0.0 in labels with no predicted samples. Use `zero_division` parameter to control this behavior.\n",
      "  _warn_prf(average, modifier, msg_start, len(result))\n",
      "/Users/laylabouzoubaa/opt/anaconda3/lib/python3.9/site-packages/sklearn/metrics/_classification.py:1327: UndefinedMetricWarning: Recall and F-score are ill-defined and being set to 0.0 in labels with no true samples. Use `zero_division` parameter to control this behavior.\n",
      "  _warn_prf(average, modifier, msg_start, len(result))\n",
      "/Users/laylabouzoubaa/opt/anaconda3/lib/python3.9/site-packages/sklearn/metrics/_classification.py:1327: UndefinedMetricWarning: Precision and F-score are ill-defined and being set to 0.0 in labels with no predicted samples. Use `zero_division` parameter to control this behavior.\n",
      "  _warn_prf(average, modifier, msg_start, len(result))\n",
      "/Users/laylabouzoubaa/opt/anaconda3/lib/python3.9/site-packages/sklearn/metrics/_classification.py:1327: UndefinedMetricWarning: Recall and F-score are ill-defined and being set to 0.0 in labels with no true samples. Use `zero_division` parameter to control this behavior.\n",
      "  _warn_prf(average, modifier, msg_start, len(result))\n",
      "/Users/laylabouzoubaa/opt/anaconda3/lib/python3.9/site-packages/sklearn/metrics/_classification.py:1327: UndefinedMetricWarning: Precision and F-score are ill-defined and being set to 0.0 in labels with no predicted samples. Use `zero_division` parameter to control this behavior.\n",
      "  _warn_prf(average, modifier, msg_start, len(result))\n",
      "/Users/laylabouzoubaa/opt/anaconda3/lib/python3.9/site-packages/sklearn/metrics/_classification.py:1327: UndefinedMetricWarning: Recall and F-score are ill-defined and being set to 0.0 in labels with no true samples. Use `zero_division` parameter to control this behavior.\n",
      "  _warn_prf(average, modifier, msg_start, len(result))\n",
      "/Users/laylabouzoubaa/opt/anaconda3/lib/python3.9/site-packages/sklearn/metrics/_classification.py:1327: UndefinedMetricWarning: Precision and F-score are ill-defined and being set to 0.0 in labels with no predicted samples. Use `zero_division` parameter to control this behavior.\n",
      "  _warn_prf(average, modifier, msg_start, len(result))\n",
      "/Users/laylabouzoubaa/opt/anaconda3/lib/python3.9/site-packages/sklearn/metrics/_classification.py:1327: UndefinedMetricWarning: Recall and F-score are ill-defined and being set to 0.0 in labels with no true samples. Use `zero_division` parameter to control this behavior.\n",
      "  _warn_prf(average, modifier, msg_start, len(result))\n"
     ]
    }
   ],
   "source": [
    "# get classification report\n",
    "print(\"Q1_3_instruct_gpt3 \\n\",classification_report(objective_test['objective'], objective_test['Q1_3_instruct_gpt3']))\n",
    "print(\"Q1_3_instruct_gpt4 \\n\", classification_report(objective_test['objective'], objective_test['Q1_3_instruct_gpt4']))\n",
    "print(\"Q1_3_example_gpt3 \\n\", classification_report(objective_test['objective'], objective_test['Q1_3_example_gpt3']))\n",
    "print(\"Q1_3_example_gpt4 \\n\", classification_report(objective_test['objective'], objective_test['Q1_3_example_gpt4']))"
   ]
  },
  {
   "cell_type": "code",
   "execution_count": 18,
   "metadata": {},
   "outputs": [
    {
     "name": "stdout",
     "output_type": "stream",
     "text": [
      "[NbConvertApp] Converting notebook make_baseline.ipynb to html\n",
      "[NbConvertApp] Writing 622865 bytes to make_baseline.html\n"
     ]
    }
   ],
   "source": [
    "# export nb to html\n",
    "!jupyter nbconvert --to html make_baseline.ipynb\n"
   ]
  }
 ],
 "metadata": {
  "kernelspec": {
   "display_name": "base",
   "language": "python",
   "name": "python3"
  },
  "language_info": {
   "codemirror_mode": {
    "name": "ipython",
    "version": 3
   },
   "file_extension": ".py",
   "mimetype": "text/x-python",
   "name": "python",
   "nbconvert_exporter": "python",
   "pygments_lexer": "ipython3",
   "version": "3.9.13"
  },
  "orig_nbformat": 4
 },
 "nbformat": 4,
 "nbformat_minor": 2
}
